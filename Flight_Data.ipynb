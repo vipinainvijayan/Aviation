{
 "cells": [
  {
   "cell_type": "markdown",
   "metadata": {
    "application/vnd.databricks.v1+cell": {
     "cellMetadata": {},
     "inputWidgets": {},
     "nuid": "2e31a4d2-58b7-4efa-bf26-ca70a70bdc92",
     "showTitle": false,
     "tableResultSettingsMap": {},
     "title": ""
    }
   },
   "source": [
    "**Checking for mount points in Databricks**"
   ]
  },
  {
   "cell_type": "code",
   "execution_count": 0,
   "metadata": {
    "application/vnd.databricks.v1+cell": {
     "cellMetadata": {
      "byteLimit": 2048000,
      "rowLimit": 10000
     },
     "inputWidgets": {},
     "nuid": "fc3336f4-f48e-45e7-b6a9-309d4f8f4e56",
     "showTitle": false,
     "tableResultSettingsMap": {},
     "title": ""
    }
   },
   "outputs": [
    {
     "output_type": "execute_result",
     "data": {
      "text/plain": [
       "[MountInfo(mountPoint='/databricks-datasets', source='databricks-datasets', encryptionType=''),\n",
       " MountInfo(mountPoint='/Volumes', source='UnityCatalogVolumes', encryptionType=''),\n",
       " MountInfo(mountPoint='/mnt/adls', source='wasbs://filestore@hbgdevstorage.blob.core.windows.net/', encryptionType=''),\n",
       " MountInfo(mountPoint='/databricks/mlflow-tracking', source='databricks/mlflow-tracking', encryptionType=''),\n",
       " MountInfo(mountPoint='/databricks-results', source='databricks-results', encryptionType=''),\n",
       " MountInfo(mountPoint='/databricks/mlflow-registry', source='databricks/mlflow-registry', encryptionType=''),\n",
       " MountInfo(mountPoint='/Volume', source='DbfsReserved', encryptionType=''),\n",
       " MountInfo(mountPoint='/volumes', source='DbfsReserved', encryptionType=''),\n",
       " MountInfo(mountPoint='/', source='DatabricksRoot', encryptionType=''),\n",
       " MountInfo(mountPoint='/volume', source='DbfsReserved', encryptionType='')]"
      ]
     },
     "execution_count": 8,
     "metadata": {},
     "output_type": "execute_result"
    }
   ],
   "source": [
    "dbutils.fs.mounts()"
   ]
  },
  {
   "cell_type": "markdown",
   "metadata": {
    "application/vnd.databricks.v1+cell": {
     "cellMetadata": {},
     "inputWidgets": {},
     "nuid": "4ae91728-934c-49b4-ae93-df5e7c8f81cf",
     "showTitle": false,
     "tableResultSettingsMap": {},
     "title": ""
    }
   },
   "source": [
    "**Mounting an External Azure storage to keep the Flight data** \n",
    "\n",
    "This will fail if we run the second time as the mount will be created in the first run."
   ]
  },
  {
   "cell_type": "code",
   "execution_count": 0,
   "metadata": {
    "application/vnd.databricks.v1+cell": {
     "cellMetadata": {
      "byteLimit": 2048000,
      "rowLimit": 10000
     },
     "inputWidgets": {},
     "nuid": "537f11c9-b7cb-44ee-bc2a-c4ca2a71b53a",
     "showTitle": false,
     "tableResultSettingsMap": {},
     "title": ""
    }
   },
   "outputs": [
    {
     "output_type": "display_data",
     "data": {
      "text/plain": [
       "\u001B[0;31m---------------------------------------------------------------------------\u001B[0m\n",
       "\u001B[0;31mExecutionError\u001B[0m                            Traceback (most recent call last)\n",
       "File \u001B[0;32m<command-5992162601892664>, line 1\u001B[0m\n",
       "\u001B[0;32m----> 1\u001B[0m dbutils\u001B[38;5;241m.\u001B[39mfs\u001B[38;5;241m.\u001B[39mmount(\n",
       "\u001B[1;32m      2\u001B[0m     source\u001B[38;5;241m=\u001B[39m\u001B[38;5;124m\"\u001B[39m\u001B[38;5;124mwasbs://filestore@hbgdevstorage.blob.core.windows.net/\u001B[39m\u001B[38;5;124m\"\u001B[39m,\n",
       "\u001B[1;32m      3\u001B[0m     mount_point\u001B[38;5;241m=\u001B[39m\u001B[38;5;124m\"\u001B[39m\u001B[38;5;124m/mnt/adls\u001B[39m\u001B[38;5;124m\"\u001B[39m,\n",
       "\u001B[1;32m      4\u001B[0m     extra_configs\u001B[38;5;241m=\u001B[39m{\u001B[38;5;124m\"\u001B[39m\u001B[38;5;124mfs.azure.account.key.hbgdevstorage.blob.core.windows.net\u001B[39m\u001B[38;5;124m\"\u001B[39m:\u001B[38;5;124m\"\u001B[39m\u001B[38;5;124m27z744YtQ/nekQxE4FyjgLSuIxkFVBY/OIaFTr0CvfecJResP4FCXcF+4GRX+/O3KRMCF56j4dqm+ASt6sCfjg==\u001B[39m\u001B[38;5;124m\"\u001B[39m}\n",
       "\u001B[1;32m      5\u001B[0m )\n",
       "\n",
       "File \u001B[0;32m/databricks/python_shell/lib/dbruntime/dbutils.py:172\u001B[0m, in \u001B[0;36mprettify_exception_message.<locals>.f_with_exception_handling\u001B[0;34m(*args, **kwargs)\u001B[0m\n",
       "\u001B[1;32m    170\u001B[0m exc\u001B[38;5;241m.\u001B[39m__context__ \u001B[38;5;241m=\u001B[39m \u001B[38;5;28;01mNone\u001B[39;00m\n",
       "\u001B[1;32m    171\u001B[0m exc\u001B[38;5;241m.\u001B[39m__cause__ \u001B[38;5;241m=\u001B[39m \u001B[38;5;28;01mNone\u001B[39;00m\n",
       "\u001B[0;32m--> 172\u001B[0m \u001B[38;5;28;01mraise\u001B[39;00m exc\n",
       "\n",
       "\u001B[0;31mExecutionError\u001B[0m: An error occurred while calling o445.mount.\n",
       ": java.rmi.RemoteException: java.lang.IllegalArgumentException: requirement failed: Directory already mounted: /mnt/adls; nested exception is: \n",
       "\tjava.lang.IllegalArgumentException: requirement failed: Directory already mounted: /mnt/adls\n",
       "\tat com.databricks.backend.daemon.data.client.BaseDbfsClient.send0(BaseDbfsClient.scala:161)\n",
       "\tat com.databricks.backend.daemon.data.client.BaseDbfsClient.sendIdempotent(BaseDbfsClient.scala:69)\n",
       "\tat com.databricks.backend.daemon.dbutils.DBUtilsCore.createOrUpdateMount(DBUtilsCore.scala:1385)\n",
       "\tat com.databricks.backend.daemon.dbutils.DBUtilsCore.$anonfun$mount$1(DBUtilsCore.scala:1411)\n",
       "\tat com.databricks.logging.UsageLogging.$anonfun$recordOperation$1(UsageLogging.scala:510)\n",
       "\tat com.databricks.logging.UsageLogging.executeThunkAndCaptureResultTags$1(UsageLogging.scala:616)\n",
       "\tat com.databricks.logging.UsageLogging.$anonfun$recordOperationWithResultTags$4(UsageLogging.scala:643)\n",
       "\tat com.databricks.logging.AttributionContextTracing.$anonfun$withAttributionContext$1(AttributionContextTracing.scala:49)\n",
       "\tat com.databricks.logging.AttributionContext$.$anonfun$withValue$1(AttributionContext.scala:293)\n",
       "\tat scala.util.DynamicVariable.withValue(DynamicVariable.scala:62)\n",
       "\tat com.databricks.logging.AttributionContext$.withValue(AttributionContext.scala:289)\n",
       "\tat com.databricks.logging.AttributionContextTracing.withAttributionContext(AttributionContextTracing.scala:47)\n",
       "\tat com.databricks.logging.AttributionContextTracing.withAttributionContext$(AttributionContextTracing.scala:44)\n",
       "\tat com.databricks.backend.daemon.dbutils.FSUtils.withAttributionContext(DBUtilsCore.scala:89)\n",
       "\tat com.databricks.logging.AttributionContextTracing.withAttributionTags(AttributionContextTracing.scala:96)\n",
       "\tat com.databricks.logging.AttributionContextTracing.withAttributionTags$(AttributionContextTracing.scala:77)\n",
       "\tat com.databricks.backend.daemon.dbutils.FSUtils.withAttributionTags(DBUtilsCore.scala:89)\n",
       "\tat com.databricks.logging.UsageLogging.recordOperationWithResultTags(UsageLogging.scala:611)\n",
       "\tat com.databricks.logging.UsageLogging.recordOperationWithResultTags$(UsageLogging.scala:519)\n",
       "\tat com.databricks.backend.daemon.dbutils.FSUtils.recordOperationWithResultTags(DBUtilsCore.scala:89)\n",
       "\tat com.databricks.logging.UsageLogging.recordOperation(UsageLogging.scala:511)\n",
       "\tat com.databricks.logging.UsageLogging.recordOperation$(UsageLogging.scala:475)\n",
       "\tat com.databricks.backend.daemon.dbutils.FSUtils.recordOperation(DBUtilsCore.scala:89)\n",
       "\tat com.databricks.backend.daemon.dbutils.FSUtils.recordDbutilsFsOp(DBUtilsCore.scala:154)\n",
       "\tat com.databricks.backend.daemon.dbutils.DBUtilsCore.mount(DBUtilsCore.scala:1405)\n",
       "\tat java.base/jdk.internal.reflect.NativeMethodAccessorImpl.invoke0(Native Method)\n",
       "\tat java.base/jdk.internal.reflect.NativeMethodAccessorImpl.invoke(NativeMethodAccessorImpl.java:77)\n",
       "\tat java.base/jdk.internal.reflect.DelegatingMethodAccessorImpl.invoke(DelegatingMethodAccessorImpl.java:43)\n",
       "\tat java.base/java.lang.reflect.Method.invoke(Method.java:569)\n",
       "\tat py4j.reflection.MethodInvoker.invoke(MethodInvoker.java:244)\n",
       "\tat py4j.reflection.ReflectionEngine.invoke(ReflectionEngine.java:397)\n",
       "\tat py4j.Gateway.invoke(Gateway.java:306)\n",
       "\tat py4j.commands.AbstractCommand.invokeMethod(AbstractCommand.java:132)\n",
       "\tat py4j.commands.CallCommand.execute(CallCommand.java:79)\n",
       "\tat py4j.ClientServerConnection.waitForCommands(ClientServerConnection.java:197)\n",
       "\tat py4j.ClientServerConnection.run(ClientServerConnection.java:117)\n",
       "\tat java.base/java.lang.Thread.run(Thread.java:840)\n",
       "Caused by: java.lang.IllegalArgumentException: requirement failed: Directory already mounted: /mnt/adls\n",
       "\tat scala.Predef$.require(Predef.scala:281)\n",
       "\tat com.databricks.backend.daemon.data.server.DefaultMetadataManager.$anonfun$insertMount$1(MetadataManager.scala:859)\n",
       "\tat com.databricks.backend.daemon.data.server.DefaultMetadataManager.$anonfun$modifyAndVerify$2(MetadataManager.scala:1241)\n",
       "\tat scala.runtime.java8.JFunction0$mcV$sp.apply(JFunction0$mcV$sp.java:23)\n",
       "\tat com.databricks.backend.daemon.data.server.DefaultMetadataManager.withRetries(MetadataManager.scala:1014)\n",
       "\tat com.databricks.backend.daemon.data.server.DefaultMetadataManager.modifyAndVerify(MetadataManager.scala:1230)\n",
       "\tat com.databricks.backend.daemon.data.server.DefaultMetadataManager.insertMount(MetadataManager.scala:867)\n",
       "\tat com.databricks.backend.daemon.data.server.handler.MountHandler.receive(MountHandler.scala:131)\n",
       "\tat com.databricks.backend.daemon.data.server.handler.DbfsRequestHandler.receive(DbfsRequestHandler.scala:16)\n",
       "\tat com.databricks.backend.daemon.data.server.handler.DbfsRequestHandler.receive$(DbfsRequestHandler.scala:15)\n",
       "\tat com.databricks.backend.daemon.data.server.handler.MountHandler.receive(MountHandler.scala:39)\n",
       "\tat com.databricks.backend.daemon.data.server.session.SessionContext.$anonfun$queryHandlers$1(SessionContext.scala:54)\n",
       "\tat com.databricks.backend.daemon.data.server.session.SessionContext.$anonfun$queryHandlers$1$adapted(SessionContext.scala:53)\n",
       "\tat scala.collection.immutable.List.foreach(List.scala:431)\n",
       "\tat com.databricks.backend.daemon.data.server.session.SessionContext.queryHandlers(SessionContext.scala:53)\n",
       "\tat com.databricks.backend.daemon.data.server.DbfsServerBackend$$anonfun$receive$4.$anonfun$applyOrElse$10(DbfsServerBackend.scala:561)\n",
       "\tat com.databricks.logging.AttributionContextTracing.$anonfun$withAttributionContext$1(AttributionContextTracing.scala:49)\n",
       "\tat com.databricks.logging.AttributionContext$.$anonfun$withValue$1(AttributionContext.scala:293)\n",
       "\tat scala.util.DynamicVariable.withValue(DynamicVariable.scala:62)\n",
       "\tat com.databricks.logging.AttributionContext$.withValue(AttributionContext.scala:289)\n",
       "\tat com.databricks.logging.AttributionContextTracing.withAttributionContext(AttributionContextTracing.scala:47)\n",
       "\tat com.databricks.logging.AttributionContextTracing.withAttributionContext$(AttributionContextTracing.scala:44)\n",
       "\tat com.databricks.rpc.ServerBackend.withAttributionContext(ServerBackend.scala:22)\n",
       "\tat com.databricks.logging.AttributionContextTracing.withAttributionTags(AttributionContextTracing.scala:96)\n",
       "\tat com.databricks.logging.AttributionContextTracing.withAttributionTags$(AttributionContextTracing.scala:77)\n",
       "\tat com.databricks.rpc.ServerBackend.withAttributionTags(ServerBackend.scala:22)\n",
       "\tat com.databricks.backend.daemon.data.server.DbfsServerBackend$$anonfun$receive$4.applyOrElse(DbfsServerBackend.scala:561)\n",
       "\tat com.databricks.backend.daemon.data.server.DbfsServerBackend$$anonfun$receive$4.applyOrElse(DbfsServerBackend.scala:450)\n",
       "\tat com.databricks.rpc.ServerBackend.$anonfun$internalReceive0$2(ServerBackend.scala:174)\n",
       "\tat com.databricks.rpc.ServerBackend$$anonfun$commonReceive$1.applyOrElse(ServerBackend.scala:200)\n",
       "\tat com.databricks.rpc.ServerBackend$$anonfun$commonReceive$1.applyOrElse(ServerBackend.scala:200)\n",
       "\tat com.databricks.rpc.ServerBackend.internalReceive0(ServerBackend.scala:171)\n",
       "\tat com.databricks.rpc.ServerBackend.$anonfun$internalReceive$1(ServerBackend.scala:147)\n",
       "\tat com.databricks.logging.UsageLogging.$anonfun$recordOperation$1(UsageLogging.scala:510)\n",
       "\tat com.databricks.logging.UsageLogging.executeThunkAndCaptureResultTags$1(UsageLogging.scala:616)\n",
       "\tat com.databricks.logging.UsageLogging.$anonfun$recordOperationWithResultTags$4(UsageLogging.scala:643)\n",
       "\tat com.databricks.logging.AttributionContextTracing.$anonfun$withAttributionContext$1(AttributionContextTracing.scala:49)\n",
       "\tat com.databricks.logging.AttributionContext$.$anonfun$withValue$1(AttributionContext.scala:293)\n",
       "\tat scala.util.DynamicVariable.withValue(DynamicVariable.scala:62)\n",
       "\tat com.databricks.logging.AttributionContext$.withValue(AttributionContext.scala:289)\n",
       "\tat com.databricks.logging.AttributionContextTracing.withAttributionContext(AttributionContextTracing.scala:47)\n",
       "\tat com.databricks.logging.AttributionContextTracing.withAttributionContext$(AttributionContextTracing.scala:44)\n",
       "\tat com.databricks.rpc.ServerBackend.withAttributionContext(ServerBackend.scala:22)\n",
       "\tat com.databricks.logging.AttributionContextTracing.withAttributionTags(AttributionContextTracing.scala:96)\n",
       "\tat com.databricks.logging.AttributionContextTracing.withAttributionTags$(AttributionContextTracing.scala:77)\n",
       "\tat com.databricks.rpc.ServerBackend.withAttributionTags(ServerBackend.scala:22)\n",
       "\tat com.databricks.logging.UsageLogging.recordOperationWithResultTags(UsageLogging.scala:611)\n",
       "\tat com.databricks.logging.UsageLogging.recordOperationWithResultTags$(UsageLogging.scala:519)\n",
       "\tat com.databricks.rpc.ServerBackend.recordOperationWithResultTags(ServerBackend.scala:22)\n",
       "\tat com.databricks.logging.UsageLogging.recordOperation(UsageLogging.scala:511)\n",
       "\tat com.databricks.logging.UsageLogging.recordOperation$(UsageLogging.scala:475)\n",
       "\tat com.databricks.rpc.ServerBackend.recordOperation(ServerBackend.scala:22)\n",
       "\tat com.databricks.rpc.ServerBackend.internalReceive(ServerBackend.scala:146)\n",
       "\tat com.databricks.rpc.JettyServer$RequestManager.handleRPC(JettyServer.scala:1033)\n",
       "\tat com.databricks.rpc.JettyServer$RequestManager.handleRequestAndRespond(JettyServer.scala:953)\n",
       "\tat com.databricks.rpc.JettyServer$RequestManager.$anonfun$handleHttp$5(JettyServer.scala:548)\n",
       "\tat com.databricks.rpc.JettyServer$RequestManager.$anonfun$handleHttp$5$adapted(JettyServer.scala:513)\n",
       "\tat com.databricks.logging.activity.ActivityContextFactory$.$anonfun$withActivityInternal$12(ActivityContextFactory.scala:826)\n",
       "\tat com.databricks.logging.AttributionContextTracing.$anonfun$withAttributionContext$1(AttributionContextTracing.scala:49)\n",
       "\tat com.databricks.logging.AttributionContext$.$anonfun$withValue$1(AttributionContext.scala:293)\n",
       "\tat scala.util.DynamicVariable.withValue(DynamicVariable.scala:62)\n",
       "\tat com.databricks.logging.AttributionContext$.withValue(AttributionContext.scala:289)\n",
       "\tat com.databricks.logging.AttributionContextTracing.withAttributionContext(AttributionContextTracing.scala:47)\n",
       "\tat com.databricks.logging.AttributionContextTracing.withAttributionContext$(AttributionContextTracing.scala:44)\n",
       "\tat com.databricks.logging.activity.ActivityContextFactory$.withAttributionContext(ActivityContextFactory.scala:53)\n",
       "\tat com.databricks.logging.activity.ActivityContextFactory$.$anonfun$withActivityInternal$2(ActivityContextFactory.scala:826)\n",
       "\tat com.databricks.context.integrity.IntegrityCheckContext$ThreadLocalStorage$.withValue(IntegrityCheckContext.scala:73)\n",
       "\tat com.databricks.logging.activity.ActivityContextFactory$.withActivityInternal(ActivityContextFactory.scala:789)\n",
       "\tat com.databricks.logging.activity.ActivityContextFactory$.withActivityInternal(ActivityContextFactory.scala:771)\n",
       "\tat com.databricks.logging.activity.ActivityContextFactory$.$anonfun$withServiceRequestActivity$15(ActivityContextFactory.scala:291)\n",
       "\tat com.databricks.logging.AttributionContextTracing.$anonfun$withAttributionContext$1(AttributionContextTracing.scala:49)\n",
       "\tat com.databricks.logging.AttributionContext$.$anonfun$withValue$1(AttributionContext.scala:293)\n",
       "\tat scala.util.DynamicVariable.withValue(DynamicVariable.scala:62)\n",
       "\tat com.databricks.logging.AttributionContext$.withValue(AttributionContext.scala:289)\n",
       "\tat com.databricks.logging.AttributionContextTracing.withAttributionContext(AttributionContextTracing.scala:47)\n",
       "\tat com.databricks.logging.AttributionContextTracing.withAttributionContext$(AttributionContextTracing.scala:44)\n",
       "\tat com.databricks.logging.activity.ActivityContextFactory$.withAttributionContext(ActivityContextFactory.scala:53)\n",
       "\tat com.databricks.logging.activity.ActivityContextFactory$.withServiceRequestActivity(ActivityContextFactory.scala:291)\n",
       "\tat com.databricks.rpc.JettyServer$RequestManager.handleHttp(JettyServer.scala:513)\n",
       "\tat com.databricks.rpc.JettyServer$RequestManager.doPost(JettyServer.scala:408)\n",
       "\tat javax.servlet.http.HttpServlet.service(HttpServlet.java:665)\n",
       "\tat com.databricks.rpc.HttpServletWithPatch.service(HttpServletWithPatch.scala:33)\n",
       "\tat javax.servlet.http.HttpServlet.service(HttpServlet.java:750)\n",
       "\tat org.eclipse.jetty.servlet.ServletHolder.handle(ServletHolder.java:799)\n",
       "\tat org.eclipse.jetty.servlet.ServletHandler.doHandle(ServletHandler.java:554)\n",
       "\tat org.eclipse.jetty.server.handler.ScopedHandler.nextScope(ScopedHandler.java:190)\n",
       "\tat org.eclipse.jetty.servlet.ServletHandler.doScope(ServletHandler.java:505)\n",
       "\tat org.eclipse.jetty.server.handler.ScopedHandler.handle(ScopedHandler.java:141)\n",
       "\tat org.eclipse.jetty.server.handler.HandlerWrapper.handle(HandlerWrapper.java:127)\n",
       "\tat org.eclipse.jetty.server.Server.handle(Server.java:516)\n",
       "\tat org.eclipse.jetty.server.HttpChannel.lambda$handle$1(HttpChannel.java:487)\n",
       "\tat org.eclipse.jetty.server.HttpChannel.dispatch(HttpChannel.java:732)\n",
       "\tat org.eclipse.jetty.server.HttpChannel.handle(HttpChannel.java:479)\n",
       "\tat org.eclipse.jetty.server.HttpConnection.onFillable(HttpConnection.java:277)\n",
       "\tat org.eclipse.jetty.io.AbstractConnection$ReadCallback.succeeded(AbstractConnection.java:311)\n",
       "\tat org.eclipse.jetty.io.FillInterest.fillable(FillInterest.java:105)\n",
       "\tat org.eclipse.jetty.io.ChannelEndPoint$1.run(ChannelEndPoint.java:104)\n",
       "\tat org.eclipse.jetty.util.thread.strategy.EatWhatYouKill.runTask(EatWhatYouKill.java:338)\n",
       "\tat org.eclipse.jetty.util.thread.strategy.EatWhatYouKill.doProduce(EatWhatYouKill.java:315)\n",
       "\tat org.eclipse.jetty.util.thread.strategy.EatWhatYouKill.tryProduce(EatWhatYouKill.java:173)\n",
       "\tat org.eclipse.jetty.util.thread.strategy.EatWhatYouKill.run(EatWhatYouKill.java:131)\n",
       "\tat org.eclipse.jetty.util.thread.ReservedThreadExecutor$ReservedThread.run(ReservedThreadExecutor.java:409)\n",
       "\tat com.databricks.rpc.InstrumentedQueuedThreadPool$$anon$1.$anonfun$run$2(InstrumentedQueuedThreadPool.scala:110)\n",
       "\tat scala.runtime.java8.JFunction0$mcV$sp.apply(JFunction0$mcV$sp.java:23)\n",
       "\tat com.databricks.logging.AttributionContextTracing.$anonfun$withAttributionContext$1(AttributionContextTracing.scala:49)\n",
       "\tat com.databricks.logging.AttributionContext$.$anonfun$withValue$1(AttributionContext.scala:293)\n",
       "\tat scala.util.DynamicVariable.withValue(DynamicVariable.scala:62)\n",
       "\tat com.databricks.logging.AttributionContext$.withValue(AttributionContext.scala:289)\n",
       "\tat com.databricks.logging.AttributionContextTracing.withAttributionContext(AttributionContextTracing.scala:47)\n",
       "\tat com.databricks.logging.AttributionContextTracing.withAttributionContext$(AttributionContextTracing.scala:44)\n",
       "\tat com.databricks.rpc.InstrumentedQueuedThreadPool.withAttributionContext(InstrumentedQueuedThreadPool.scala:45)\n",
       "\tat com.databricks.rpc.InstrumentedQueuedThreadPool$$anon$1.$anonfun$run$1(InstrumentedQueuedThreadPool.scala:110)\n",
       "\tat scala.runtime.java8.JFunction0$mcV$sp.apply(JFunction0$mcV$sp.java:23)\n",
       "\tat com.databricks.instrumentation.QueuedThreadPoolInstrumenter.trackActiveThreads(QueuedThreadPoolInstrumenter.scala:132)\n",
       "\tat com.databricks.instrumentation.QueuedThreadPoolInstrumenter.trackActiveThreads$(QueuedThreadPoolInstrumenter.scala:129)\n",
       "\tat com.databricks.rpc.InstrumentedQueuedThreadPool.trackActiveThreads(InstrumentedQueuedThreadPool.scala:45)\n",
       "\tat com.databricks.rpc.InstrumentedQueuedThreadPool$$anon$1.run(InstrumentedQueuedThreadPool.scala:92)\n",
       "\tat org.eclipse.jetty.util.thread.QueuedThreadPool.runJob(QueuedThreadPool.java:883)\n",
       "\tat org.eclipse.jetty.util.thread.QueuedThreadPool$Runner.run(QueuedThreadPool.java:1034)\n",
       "\tat java.lang.Thread.run(Thread.java:840)\n"
      ]
     },
     "metadata": {
      "application/vnd.databricks.v1+output": {
       "addedWidgets": {},
       "arguments": {},
       "datasetInfos": [],
       "jupyterProps": {
        "ename": "ExecutionError",
        "evalue": "An error occurred while calling o445.mount.\n: java.rmi.RemoteException: java.lang.IllegalArgumentException: requirement failed: Directory already mounted: /mnt/adls; nested exception is: \n\tjava.lang.IllegalArgumentException: requirement failed: Directory already mounted: /mnt/adls\n\tat com.databricks.backend.daemon.data.client.BaseDbfsClient.send0(BaseDbfsClient.scala:161)\n\tat com.databricks.backend.daemon.data.client.BaseDbfsClient.sendIdempotent(BaseDbfsClient.scala:69)\n\tat com.databricks.backend.daemon.dbutils.DBUtilsCore.createOrUpdateMount(DBUtilsCore.scala:1385)\n\tat com.databricks.backend.daemon.dbutils.DBUtilsCore.$anonfun$mount$1(DBUtilsCore.scala:1411)\n\tat com.databricks.logging.UsageLogging.$anonfun$recordOperation$1(UsageLogging.scala:510)\n\tat com.databricks.logging.UsageLogging.executeThunkAndCaptureResultTags$1(UsageLogging.scala:616)\n\tat com.databricks.logging.UsageLogging.$anonfun$recordOperationWithResultTags$4(UsageLogging.scala:643)\n\tat com.databricks.logging.AttributionContextTracing.$anonfun$withAttributionContext$1(AttributionContextTracing.scala:49)\n\tat com.databricks.logging.AttributionContext$.$anonfun$withValue$1(AttributionContext.scala:293)\n\tat scala.util.DynamicVariable.withValue(DynamicVariable.scala:62)\n\tat com.databricks.logging.AttributionContext$.withValue(AttributionContext.scala:289)\n\tat com.databricks.logging.AttributionContextTracing.withAttributionContext(AttributionContextTracing.scala:47)\n\tat com.databricks.logging.AttributionContextTracing.withAttributionContext$(AttributionContextTracing.scala:44)\n\tat com.databricks.backend.daemon.dbutils.FSUtils.withAttributionContext(DBUtilsCore.scala:89)\n\tat com.databricks.logging.AttributionContextTracing.withAttributionTags(AttributionContextTracing.scala:96)\n\tat com.databricks.logging.AttributionContextTracing.withAttributionTags$(AttributionContextTracing.scala:77)\n\tat com.databricks.backend.daemon.dbutils.FSUtils.withAttributionTags(DBUtilsCore.scala:89)\n\tat com.databricks.logging.UsageLogging.recordOperationWithResultTags(UsageLogging.scala:611)\n\tat com.databricks.logging.UsageLogging.recordOperationWithResultTags$(UsageLogging.scala:519)\n\tat com.databricks.backend.daemon.dbutils.FSUtils.recordOperationWithResultTags(DBUtilsCore.scala:89)\n\tat com.databricks.logging.UsageLogging.recordOperation(UsageLogging.scala:511)\n\tat com.databricks.logging.UsageLogging.recordOperation$(UsageLogging.scala:475)\n\tat com.databricks.backend.daemon.dbutils.FSUtils.recordOperation(DBUtilsCore.scala:89)\n\tat com.databricks.backend.daemon.dbutils.FSUtils.recordDbutilsFsOp(DBUtilsCore.scala:154)\n\tat com.databricks.backend.daemon.dbutils.DBUtilsCore.mount(DBUtilsCore.scala:1405)\n\tat java.base/jdk.internal.reflect.NativeMethodAccessorImpl.invoke0(Native Method)\n\tat java.base/jdk.internal.reflect.NativeMethodAccessorImpl.invoke(NativeMethodAccessorImpl.java:77)\n\tat java.base/jdk.internal.reflect.DelegatingMethodAccessorImpl.invoke(DelegatingMethodAccessorImpl.java:43)\n\tat java.base/java.lang.reflect.Method.invoke(Method.java:569)\n\tat py4j.reflection.MethodInvoker.invoke(MethodInvoker.java:244)\n\tat py4j.reflection.ReflectionEngine.invoke(ReflectionEngine.java:397)\n\tat py4j.Gateway.invoke(Gateway.java:306)\n\tat py4j.commands.AbstractCommand.invokeMethod(AbstractCommand.java:132)\n\tat py4j.commands.CallCommand.execute(CallCommand.java:79)\n\tat py4j.ClientServerConnection.waitForCommands(ClientServerConnection.java:197)\n\tat py4j.ClientServerConnection.run(ClientServerConnection.java:117)\n\tat java.base/java.lang.Thread.run(Thread.java:840)\nCaused by: java.lang.IllegalArgumentException: requirement failed: Directory already mounted: /mnt/adls\n\tat scala.Predef$.require(Predef.scala:281)\n\tat com.databricks.backend.daemon.data.server.DefaultMetadataManager.$anonfun$insertMount$1(MetadataManager.scala:859)\n\tat com.databricks.backend.daemon.data.server.DefaultMetadataManager.$anonfun$modifyAndVerify$2(MetadataManager.scala:1241)\n\tat scala.runtime.java8.JFunction0$mcV$sp.apply(JFunction0$mcV$sp.java:23)\n\tat com.databricks.backend.daemon.data.server.DefaultMetadataManager.withRetries(MetadataManager.scala:1014)\n\tat com.databricks.backend.daemon.data.server.DefaultMetadataManager.modifyAndVerify(MetadataManager.scala:1230)\n\tat com.databricks.backend.daemon.data.server.DefaultMetadataManager.insertMount(MetadataManager.scala:867)\n\tat com.databricks.backend.daemon.data.server.handler.MountHandler.receive(MountHandler.scala:131)\n\tat com.databricks.backend.daemon.data.server.handler.DbfsRequestHandler.receive(DbfsRequestHandler.scala:16)\n\tat com.databricks.backend.daemon.data.server.handler.DbfsRequestHandler.receive$(DbfsRequestHandler.scala:15)\n\tat com.databricks.backend.daemon.data.server.handler.MountHandler.receive(MountHandler.scala:39)\n\tat com.databricks.backend.daemon.data.server.session.SessionContext.$anonfun$queryHandlers$1(SessionContext.scala:54)\n\tat com.databricks.backend.daemon.data.server.session.SessionContext.$anonfun$queryHandlers$1$adapted(SessionContext.scala:53)\n\tat scala.collection.immutable.List.foreach(List.scala:431)\n\tat com.databricks.backend.daemon.data.server.session.SessionContext.queryHandlers(SessionContext.scala:53)\n\tat com.databricks.backend.daemon.data.server.DbfsServerBackend$$anonfun$receive$4.$anonfun$applyOrElse$10(DbfsServerBackend.scala:561)\n\tat com.databricks.logging.AttributionContextTracing.$anonfun$withAttributionContext$1(AttributionContextTracing.scala:49)\n\tat com.databricks.logging.AttributionContext$.$anonfun$withValue$1(AttributionContext.scala:293)\n\tat scala.util.DynamicVariable.withValue(DynamicVariable.scala:62)\n\tat com.databricks.logging.AttributionContext$.withValue(AttributionContext.scala:289)\n\tat com.databricks.logging.AttributionContextTracing.withAttributionContext(AttributionContextTracing.scala:47)\n\tat com.databricks.logging.AttributionContextTracing.withAttributionContext$(AttributionContextTracing.scala:44)\n\tat com.databricks.rpc.ServerBackend.withAttributionContext(ServerBackend.scala:22)\n\tat com.databricks.logging.AttributionContextTracing.withAttributionTags(AttributionContextTracing.scala:96)\n\tat com.databricks.logging.AttributionContextTracing.withAttributionTags$(AttributionContextTracing.scala:77)\n\tat com.databricks.rpc.ServerBackend.withAttributionTags(ServerBackend.scala:22)\n\tat com.databricks.backend.daemon.data.server.DbfsServerBackend$$anonfun$receive$4.applyOrElse(DbfsServerBackend.scala:561)\n\tat com.databricks.backend.daemon.data.server.DbfsServerBackend$$anonfun$receive$4.applyOrElse(DbfsServerBackend.scala:450)\n\tat com.databricks.rpc.ServerBackend.$anonfun$internalReceive0$2(ServerBackend.scala:174)\n\tat com.databricks.rpc.ServerBackend$$anonfun$commonReceive$1.applyOrElse(ServerBackend.scala:200)\n\tat com.databricks.rpc.ServerBackend$$anonfun$commonReceive$1.applyOrElse(ServerBackend.scala:200)\n\tat com.databricks.rpc.ServerBackend.internalReceive0(ServerBackend.scala:171)\n\tat com.databricks.rpc.ServerBackend.$anonfun$internalReceive$1(ServerBackend.scala:147)\n\tat com.databricks.logging.UsageLogging.$anonfun$recordOperation$1(UsageLogging.scala:510)\n\tat com.databricks.logging.UsageLogging.executeThunkAndCaptureResultTags$1(UsageLogging.scala:616)\n\tat com.databricks.logging.UsageLogging.$anonfun$recordOperationWithResultTags$4(UsageLogging.scala:643)\n\tat com.databricks.logging.AttributionContextTracing.$anonfun$withAttributionContext$1(AttributionContextTracing.scala:49)\n\tat com.databricks.logging.AttributionContext$.$anonfun$withValue$1(AttributionContext.scala:293)\n\tat scala.util.DynamicVariable.withValue(DynamicVariable.scala:62)\n\tat com.databricks.logging.AttributionContext$.withValue(AttributionContext.scala:289)\n\tat com.databricks.logging.AttributionContextTracing.withAttributionContext(AttributionContextTracing.scala:47)\n\tat com.databricks.logging.AttributionContextTracing.withAttributionContext$(AttributionContextTracing.scala:44)\n\tat com.databricks.rpc.ServerBackend.withAttributionContext(ServerBackend.scala:22)\n\tat com.databricks.logging.AttributionContextTracing.withAttributionTags(AttributionContextTracing.scala:96)\n\tat com.databricks.logging.AttributionContextTracing.withAttributionTags$(AttributionContextTracing.scala:77)\n\tat com.databricks.rpc.ServerBackend.withAttributionTags(ServerBackend.scala:22)\n\tat com.databricks.logging.UsageLogging.recordOperationWithResultTags(UsageLogging.scala:611)\n\tat com.databricks.logging.UsageLogging.recordOperationWithResultTags$(UsageLogging.scala:519)\n\tat com.databricks.rpc.ServerBackend.recordOperationWithResultTags(ServerBackend.scala:22)\n\tat com.databricks.logging.UsageLogging.recordOperation(UsageLogging.scala:511)\n\tat com.databricks.logging.UsageLogging.recordOperation$(UsageLogging.scala:475)\n\tat com.databricks.rpc.ServerBackend.recordOperation(ServerBackend.scala:22)\n\tat com.databricks.rpc.ServerBackend.internalReceive(ServerBackend.scala:146)\n\tat com.databricks.rpc.JettyServer$RequestManager.handleRPC(JettyServer.scala:1033)\n\tat com.databricks.rpc.JettyServer$RequestManager.handleRequestAndRespond(JettyServer.scala:953)\n\tat com.databricks.rpc.JettyServer$RequestManager.$anonfun$handleHttp$5(JettyServer.scala:548)\n\tat com.databricks.rpc.JettyServer$RequestManager.$anonfun$handleHttp$5$adapted(JettyServer.scala:513)\n\tat com.databricks.logging.activity.ActivityContextFactory$.$anonfun$withActivityInternal$12(ActivityContextFactory.scala:826)\n\tat com.databricks.logging.AttributionContextTracing.$anonfun$withAttributionContext$1(AttributionContextTracing.scala:49)\n\tat com.databricks.logging.AttributionContext$.$anonfun$withValue$1(AttributionContext.scala:293)\n\tat scala.util.DynamicVariable.withValue(DynamicVariable.scala:62)\n\tat com.databricks.logging.AttributionContext$.withValue(AttributionContext.scala:289)\n\tat com.databricks.logging.AttributionContextTracing.withAttributionContext(AttributionContextTracing.scala:47)\n\tat com.databricks.logging.AttributionContextTracing.withAttributionContext$(AttributionContextTracing.scala:44)\n\tat com.databricks.logging.activity.ActivityContextFactory$.withAttributionContext(ActivityContextFactory.scala:53)\n\tat com.databricks.logging.activity.ActivityContextFactory$.$anonfun$withActivityInternal$2(ActivityContextFactory.scala:826)\n\tat com.databricks.context.integrity.IntegrityCheckContext$ThreadLocalStorage$.withValue(IntegrityCheckContext.scala:73)\n\tat com.databricks.logging.activity.ActivityContextFactory$.withActivityInternal(ActivityContextFactory.scala:789)\n\tat com.databricks.logging.activity.ActivityContextFactory$.withActivityInternal(ActivityContextFactory.scala:771)\n\tat com.databricks.logging.activity.ActivityContextFactory$.$anonfun$withServiceRequestActivity$15(ActivityContextFactory.scala:291)\n\tat com.databricks.logging.AttributionContextTracing.$anonfun$withAttributionContext$1(AttributionContextTracing.scala:49)\n\tat com.databricks.logging.AttributionContext$.$anonfun$withValue$1(AttributionContext.scala:293)\n\tat scala.util.DynamicVariable.withValue(DynamicVariable.scala:62)\n\tat com.databricks.logging.AttributionContext$.withValue(AttributionContext.scala:289)\n\tat com.databricks.logging.AttributionContextTracing.withAttributionContext(AttributionContextTracing.scala:47)\n\tat com.databricks.logging.AttributionContextTracing.withAttributionContext$(AttributionContextTracing.scala:44)\n\tat com.databricks.logging.activity.ActivityContextFactory$.withAttributionContext(ActivityContextFactory.scala:53)\n\tat com.databricks.logging.activity.ActivityContextFactory$.withServiceRequestActivity(ActivityContextFactory.scala:291)\n\tat com.databricks.rpc.JettyServer$RequestManager.handleHttp(JettyServer.scala:513)\n\tat com.databricks.rpc.JettyServer$RequestManager.doPost(JettyServer.scala:408)\n\tat javax.servlet.http.HttpServlet.service(HttpServlet.java:665)\n\tat com.databricks.rpc.HttpServletWithPatch.service(HttpServletWithPatch.scala:33)\n\tat javax.servlet.http.HttpServlet.service(HttpServlet.java:750)\n\tat org.eclipse.jetty.servlet.ServletHolder.handle(ServletHolder.java:799)\n\tat org.eclipse.jetty.servlet.ServletHandler.doHandle(ServletHandler.java:554)\n\tat org.eclipse.jetty.server.handler.ScopedHandler.nextScope(ScopedHandler.java:190)\n\tat org.eclipse.jetty.servlet.ServletHandler.doScope(ServletHandler.java:505)\n\tat org.eclipse.jetty.server.handler.ScopedHandler.handle(ScopedHandler.java:141)\n\tat org.eclipse.jetty.server.handler.HandlerWrapper.handle(HandlerWrapper.java:127)\n\tat org.eclipse.jetty.server.Server.handle(Server.java:516)\n\tat org.eclipse.jetty.server.HttpChannel.lambda$handle$1(HttpChannel.java:487)\n\tat org.eclipse.jetty.server.HttpChannel.dispatch(HttpChannel.java:732)\n\tat org.eclipse.jetty.server.HttpChannel.handle(HttpChannel.java:479)\n\tat org.eclipse.jetty.server.HttpConnection.onFillable(HttpConnection.java:277)\n\tat org.eclipse.jetty.io.AbstractConnection$ReadCallback.succeeded(AbstractConnection.java:311)\n\tat org.eclipse.jetty.io.FillInterest.fillable(FillInterest.java:105)\n\tat org.eclipse.jetty.io.ChannelEndPoint$1.run(ChannelEndPoint.java:104)\n\tat org.eclipse.jetty.util.thread.strategy.EatWhatYouKill.runTask(EatWhatYouKill.java:338)\n\tat org.eclipse.jetty.util.thread.strategy.EatWhatYouKill.doProduce(EatWhatYouKill.java:315)\n\tat org.eclipse.jetty.util.thread.strategy.EatWhatYouKill.tryProduce(EatWhatYouKill.java:173)\n\tat org.eclipse.jetty.util.thread.strategy.EatWhatYouKill.run(EatWhatYouKill.java:131)\n\tat org.eclipse.jetty.util.thread.ReservedThreadExecutor$ReservedThread.run(ReservedThreadExecutor.java:409)\n\tat com.databricks.rpc.InstrumentedQueuedThreadPool$$anon$1.$anonfun$run$2(InstrumentedQueuedThreadPool.scala:110)\n\tat scala.runtime.java8.JFunction0$mcV$sp.apply(JFunction0$mcV$sp.java:23)\n\tat com.databricks.logging.AttributionContextTracing.$anonfun$withAttributionContext$1(AttributionContextTracing.scala:49)\n\tat com.databricks.logging.AttributionContext$.$anonfun$withValue$1(AttributionContext.scala:293)\n\tat scala.util.DynamicVariable.withValue(DynamicVariable.scala:62)\n\tat com.databricks.logging.AttributionContext$.withValue(AttributionContext.scala:289)\n\tat com.databricks.logging.AttributionContextTracing.withAttributionContext(AttributionContextTracing.scala:47)\n\tat com.databricks.logging.AttributionContextTracing.withAttributionContext$(AttributionContextTracing.scala:44)\n\tat com.databricks.rpc.InstrumentedQueuedThreadPool.withAttributionContext(InstrumentedQueuedThreadPool.scala:45)\n\tat com.databricks.rpc.InstrumentedQueuedThreadPool$$anon$1.$anonfun$run$1(InstrumentedQueuedThreadPool.scala:110)\n\tat scala.runtime.java8.JFunction0$mcV$sp.apply(JFunction0$mcV$sp.java:23)\n\tat com.databricks.instrumentation.QueuedThreadPoolInstrumenter.trackActiveThreads(QueuedThreadPoolInstrumenter.scala:132)\n\tat com.databricks.instrumentation.QueuedThreadPoolInstrumenter.trackActiveThreads$(QueuedThreadPoolInstrumenter.scala:129)\n\tat com.databricks.rpc.InstrumentedQueuedThreadPool.trackActiveThreads(InstrumentedQueuedThreadPool.scala:45)\n\tat com.databricks.rpc.InstrumentedQueuedThreadPool$$anon$1.run(InstrumentedQueuedThreadPool.scala:92)\n\tat org.eclipse.jetty.util.thread.QueuedThreadPool.runJob(QueuedThreadPool.java:883)\n\tat org.eclipse.jetty.util.thread.QueuedThreadPool$Runner.run(QueuedThreadPool.java:1034)\n\tat java.lang.Thread.run(Thread.java:840)\n"
       },
       "metadata": {
        "errorSummary": "<span class='ansi-red-fg'>ExecutionError</span>: An error occurred while calling o445.mount.\n: java.rmi.RemoteException: java.lang.IllegalArgumentException: requirement failed: Directory already mounted: /mnt/adls; nested exception is: \n\tjava.lang.IllegalArgumentException: requirement failed: Directory already mounted: /mnt/adls\n\tat com.databricks.backend.daemon.data.client.BaseDbfsClient.send0(BaseDbfsClient.scala:161)\n\tat com.databricks.backend.daemon.data.client.BaseDbfsClient.sendIdempotent(BaseDbfsClient.scala:69)\n\tat com.databricks.backend.daemon.dbutils.DBUtilsCore.createOrUpdateMount(DBUtilsCore.scala:1385)\n\tat com.databricks.backend.daemon.dbutils.DBUtilsCore.$anonfun$mount$1(DBUtilsCore.scala:1411)\n\tat com.databricks.logging.UsageLogging.$anonfun$recordOperation$1(UsageLogging.scala:510)\n\tat com.databricks.logging.UsageLogging.executeThunkAndCaptureResultTags$1(UsageLogging.scala:616)\n\tat com.databricks.logging.UsageLogging.$anonfun$recordOperationWithResultTags$4(UsageLogging.scala:643)\n\tat com.databricks.logging.AttributionContextTracing.$anonfun$withAttributionContext$1(AttributionContextTracing.scala:49)\n\tat com.databricks.logging.AttributionContext$.$anonfun$withValue$1(AttributionContext.scala:293)\n\tat scala.util.DynamicVariable.withValue(DynamicVariable.scala:62)\n\tat com.databricks.logging.AttributionContext$.withValue(AttributionContext.scala:289)\n\tat com.databricks.logging.AttributionContextTracing.withAttributionContext(AttributionContextTracing.scala:47)\n\tat com.databricks.logging.AttributionContextTracing.withAttributionContext$(AttributionContextTracing.scala:44)\n\tat com.databricks.backend.daemon.dbutils.FSUtils.withAttributionContext(DBUtilsCore.scala:89)\n\tat com.databricks.logging.AttributionContextTracing.withAttributionTags(AttributionContextTracing.scala:96)\n\tat com.databricks.logging.AttributionContextTracing.withAttributionTags$(AttributionContextTracing.scala:77)\n\tat com.databricks.backend.daemon.dbutils.FSUtils.withAttributionTags(DBUtilsCore.scala:89)\n\tat com.databricks.logging.UsageLogging.recordOperationWithResultTags(UsageLogging.scala:611)\n\tat com.databricks.logging.UsageLogging.recordOperationWithResultTags$(UsageLogging.scala:519)\n\tat com.databricks.backend.daemon.dbutils.FSUtils.recordOperationWithResultTags(DBUtilsCore.scala:89)\n\tat com.databricks.logging.UsageLogging.recordOperation(UsageLogging.scala:511)\n\tat com.databricks.logging.UsageLogging.recordOperation$(UsageLogging.scala:475)\n\tat com.databricks.backend.daemon.dbutils.FSUtils.recordOperation(DBUtilsCore.scala:89)\n\tat com.databricks.backend.daemon.dbutils.FSUtils.recordDbutilsFsOp(DBUtilsCore.scala:154)\n\tat com.databricks.backend.daemon.dbutils.DBUtilsCore.mount(DBUtilsCore.scala:1405)\n\tat java.base/jdk.internal.reflect.NativeMethodAccessorImpl.invoke0(Native Method)\n\tat java.base/jdk.internal.reflect.NativeMethodAccessorImpl.invoke(NativeMethodAccessorImpl.java:77)\n\tat java.base/jdk.internal.reflect.DelegatingMethodAccessorImpl.invoke(DelegatingMethodAccessorImpl.java:43)\n\tat java.base/java.lang.reflect.Method.invoke(Method.java:569)\n\tat py4j.reflection.MethodInvoker.invoke(MethodInvoker.java:244)\n\tat py4j.reflection.ReflectionEngine.invoke(ReflectionEngine.java:397)\n\tat py4j.Gateway.invoke(Gateway.java:306)\n\tat py4j.commands.AbstractCommand.invokeMethod(AbstractCommand.java:132)\n\tat py4j.commands.CallCommand.execute(CallCommand.java:79)\n\tat py4j.ClientServerConnection.waitForCommands(ClientServerConnection.java:197)\n\tat py4j.ClientServerConnection.run(ClientServerConnection.java:117)\n\tat java.base/java.lang.Thread.run(Thread.java:840)\nCaused by: java.lang.IllegalArgumentException: requirement failed: Directory already mounted: /mnt/adls\n\tat scala.Predef$.require(Predef.scala:281)\n\tat com.databricks.backend.daemon.data.server.DefaultMetadataManager.$anonfun$insertMount$1(MetadataManager.scala:859)\n\tat com.databricks.backend.daemon.data.server.DefaultMetadataManager.$anonfun$modifyAndVerify$2(MetadataManager.scala:1241)\n\tat scala.runtime.java8.JFunction0$mcV$sp.apply(JFunction0$mcV$sp.java:23)\n\tat com.databricks.backend.daemon.data.server.DefaultMetadataManager.withRetries(MetadataManager.scala:1014)\n\tat com.databricks.backend.daemon.data.server.DefaultMetadataManager.modifyAndVerify(MetadataManager.scala:1230)\n\tat com.databricks.backend.daemon.data.server.DefaultMetadataManager.insertMount(MetadataManager.scala:867)\n\tat com.databricks.backend.daemon.data.server.handler.MountHandler.receive(MountHandler.scala:131)\n\tat com.databricks.backend.daemon.data.server.handler.DbfsRequestHandler.receive(DbfsRequestHandler.scala:16)\n\tat com.databricks.backend.daemon.data.server.handler.DbfsRequestHandler.receive$(DbfsRequestHandler.scala:15)\n\tat com.databricks.backend.daemon.data.server.handler.MountHandler.receive(MountHandler.scala:39)\n\tat com.databricks.backend.daemon.data.server.session.SessionContext.$anonfun$queryHandlers$1(SessionContext.scala:54)\n\tat com.databricks.backend.daemon.data.server.session.SessionContext.$anonfun$queryHandlers$1$adapted(SessionContext.scala:53)\n\tat scala.collection.immutable.List.foreach(List.scala:431)\n\tat com.databricks.backend.daemon.data.server.session.SessionContext.queryHandlers(SessionContext.scala:53)\n\tat com.databricks.backend.daemon.data.server.DbfsServerBackend$$anonfun$receive$4.$anonfun$applyOrElse$10(DbfsServerBackend.scala:561)\n\tat com.databricks.logging.AttributionContextTracing.$anonfun$withAttributionContext$1(AttributionContextTracing.scala:49)\n\tat com.databricks.logging.AttributionContext$.$anonfun$withValue$1(AttributionContext.scala:293)\n\tat scala.util.DynamicVariable.withValue(DynamicVariable.scala:62)\n\tat com.databricks.logging.AttributionContext$.withValue(AttributionContext.scala:289)\n\tat com.databricks.logging.AttributionContextTracing.withAttributionContext(AttributionContextTracing.scala:47)\n\tat com.databricks.logging.AttributionContextTracing.withAttributionContext$(AttributionContextTracing.scala:44)\n\tat com.databricks.rpc.ServerBackend.withAttributionContext(ServerBackend.scala:22)\n\tat com.databricks.logging.AttributionContextTracing.withAttributionTags(AttributionContextTracing.scala:96)\n\tat com.databricks.logging.AttributionContextTracing.withAttributionTags$(AttributionContextTracing.scala:77)\n\tat com.databricks.rpc.ServerBackend.withAttributionTags(ServerBackend.scala:22)\n\tat com.databricks.backend.daemon.data.server.DbfsServerBackend$$anonfun$receive$4.applyOrElse(DbfsServerBackend.scala:561)\n\tat com.databricks.backend.daemon.data.server.DbfsServerBackend$$anonfun$receive$4.applyOrElse(DbfsServerBackend.scala:450)\n\tat com.databricks.rpc.ServerBackend.$anonfun$internalReceive0$2(ServerBackend.scala:174)\n\tat com.databricks.rpc.ServerBackend$$anonfun$commonReceive$1.applyOrElse(ServerBackend.scala:200)\n\tat com.databricks.rpc.ServerBackend$$anonfun$commonReceive$1.applyOrElse(ServerBackend.scala:200)\n\tat com.databricks.rpc.ServerBackend.internalReceive0(ServerBackend.scala:171)\n\tat com.databricks.rpc.ServerBackend.$anonfun$internalReceive$1(ServerBackend.scala:147)\n\tat com.databricks.logging.UsageLogging.$anonfun$recordOperation$1(UsageLogging.scala:510)\n\tat com.databricks.logging.UsageLogging.executeThunkAndCaptureResultTags$1(UsageLogging.scala:616)\n\tat com.databricks.logging.UsageLogging.$anonfun$recordOperationWithResultTags$4(UsageLogging.scala:643)\n\tat com.databricks.logging.AttributionContextTracing.$anonfun$withAttributionContext$1(AttributionContextTracing.scala:49)\n\tat com.databricks.logging.AttributionContext$.$anonfun$withValue$1(AttributionContext.scala:293)\n\tat scala.util.DynamicVariable.withValue(DynamicVariable.scala:62)\n\tat com.databricks.logging.AttributionContext$.withValue(AttributionContext.scala:289)\n\tat com.databricks.logging.AttributionContextTracing.withAttributionContext(AttributionContextTracing.scala:47)\n\tat com.databricks.logging.AttributionContextTracing.withAttributionContext$(AttributionContextTracing.scala:44)\n\tat com.databricks.rpc.ServerBackend.withAttributionContext(ServerBackend.scala:22)\n\tat com.databricks.logging.AttributionContextTracing.withAttributionTags(AttributionContextTracing.scala:96)\n\tat com.databricks.logging.AttributionContextTracing.withAttributionTags$(AttributionContextTracing.scala:77)\n\tat com.databricks.rpc.ServerBackend.withAttributionTags(ServerBackend.scala:22)\n\tat com.databricks.logging.UsageLogging.recordOperationWithResultTags(UsageLogging.scala:611)\n\tat com.databricks.logging.UsageLogging.recordOperationWithResultTags$(UsageLogging.scala:519)\n\tat com.databricks.rpc.ServerBackend.recordOperationWithResultTags(ServerBackend.scala:22)\n\tat com.databricks.logging.UsageLogging.recordOperation(UsageLogging.scala:511)\n\tat com.databricks.logging.UsageLogging.recordOperation$(UsageLogging.scala:475)\n\tat com.databricks.rpc.ServerBackend.recordOperation(ServerBackend.scala:22)\n\tat com.databricks.rpc.ServerBackend.internalReceive(ServerBackend.scala:146)\n\tat com.databricks.rpc.JettyServer$RequestManager.handleRPC(JettyServer.scala:1033)\n\tat com.databricks.rpc.JettyServer$RequestManager.handleRequestAndRespond(JettyServer.scala:953)\n\tat com.databricks.rpc.JettyServer$RequestManager.$anonfun$handleHttp$5(JettyServer.scala:548)\n\tat com.databricks.rpc.JettyServer$RequestManager.$anonfun$handleHttp$5$adapted(JettyServer.scala:513)\n\tat com.databricks.logging.activity.ActivityContextFactory$.$anonfun$withActivityInternal$12(ActivityContextFactory.scala:826)\n\tat com.databricks.logging.AttributionContextTracing.$anonfun$withAttributionContext$1(AttributionContextTracing.scala:49)\n\tat com.databricks.logging.AttributionContext$.$anonfun$withValue$1(AttributionContext.scala:293)\n\tat scala.util.DynamicVariable.withValue(DynamicVariable.scala:62)\n\tat com.databricks.logging.AttributionContext$.withValue(AttributionContext.scala:289)\n\tat com.databricks.logging.AttributionContextTracing.withAttributionContext(AttributionContextTracing.scala:47)\n\tat com.databricks.logging.AttributionContextTracing.withAttributionContext$(AttributionContextTracing.scala:44)\n\tat com.databricks.logging.activity.ActivityContextFactory$.withAttributionContext(ActivityContextFactory.scala:53)\n\tat com.databricks.logging.activity.ActivityContextFactory$.$anonfun$withActivityInternal$2(ActivityContextFactory.scala:826)\n\tat com.databricks.context.integrity.IntegrityCheckContext$ThreadLocalStorage$.withValue(IntegrityCheckContext.scala:73)\n\tat com.databricks.logging.activity.ActivityContextFactory$.withActivityInternal(ActivityContextFactory.scala:789)\n\tat com.databricks.logging.activity.ActivityContextFactory$.withActivityInternal(ActivityContextFactory.scala:771)\n\tat com.databricks.logging.activity.ActivityContextFactory$.$anonfun$withServiceRequestActivity$15(ActivityContextFactory.scala:291)\n\tat com.databricks.logging.AttributionContextTracing.$anonfun$withAttributionContext$1(AttributionContextTracing.scala:49)\n\tat com.databricks.logging.AttributionContext$.$anonfun$withValue$1(AttributionContext.scala:293)\n\tat scala.util.DynamicVariable.withValue(DynamicVariable.scala:62)\n\tat com.databricks.logging.AttributionContext$.withValue(AttributionContext.scala:289)\n\tat com.databricks.logging.AttributionContextTracing.withAttributionContext(AttributionContextTracing.scala:47)\n\tat com.databricks.logging.AttributionContextTracing.withAttributionContext$(AttributionContextTracing.scala:44)\n\tat com.databricks.logging.activity.ActivityContextFactory$.withAttributionContext(ActivityContextFactory.scala:53)\n\tat com.databricks.logging.activity.ActivityContextFactory$.withServiceRequestActivity(ActivityContextFactory.scala:291)\n\tat com.databricks.rpc.JettyServer$RequestManager.handleHttp(JettyServer.scala:513)\n\tat com.databricks.rpc.JettyServer$RequestManager.doPost(JettyServer.scala:408)\n\tat javax.servlet.http.HttpServlet.service(HttpServlet.java:665)\n\tat com.databricks.rpc.HttpServletWithPatch.service(HttpServletWithPatch.scala:33)\n\tat javax.servlet.http.HttpServlet.service(HttpServlet.java:750)\n\tat org.eclipse.jetty.servlet.ServletHolder.handle(ServletHolder.java:799)\n\tat org.eclipse.jetty.servlet.ServletHandler.doHandle(ServletHandler.java:554)\n\tat org.eclipse.jetty.server.handler.ScopedHandler.nextScope(ScopedHandler.java:190)\n\tat org.eclipse.jetty.servlet.ServletHandler.doScope(ServletHandler.java:505)\n\tat org.eclipse.jetty.server.handler.ScopedHandler.handle(ScopedHandler.java:141)\n\tat org.eclipse.jetty.server.handler.HandlerWrapper.handle(HandlerWrapper.java:127)\n\tat org.eclipse.jetty.server.Server.handle(Server.java:516)\n\tat org.eclipse.jetty.server.HttpChannel.lambda$handle$1(HttpChannel.java:487)\n\tat org.eclipse.jetty.server.HttpChannel.dispatch(HttpChannel.java:732)\n\tat org.eclipse.jetty.server.HttpChannel.handle(HttpChannel.java:479)\n\tat org.eclipse.jetty.server.HttpConnection.onFillable(HttpConnection.java:277)\n\tat org.eclipse.jetty.io.AbstractConnection$ReadCallback.succeeded(AbstractConnection.java:311)\n\tat org.eclipse.jetty.io.FillInterest.fillable(FillInterest.java:105)\n\tat org.eclipse.jetty.io.ChannelEndPoint$1.run(ChannelEndPoint.java:104)\n\tat org.eclipse.jetty.util.thread.strategy.EatWhatYouKill.runTask(EatWhatYouKill.java:338)\n\tat org.eclipse.jetty.util.thread.strategy.EatWhatYouKill.doProduce(EatWhatYouKill.java:315)\n\tat org.eclipse.jetty.util.thread.strategy.EatWhatYouKill.tryProduce(EatWhatYouKill.java:173)\n\tat org.eclipse.jetty.util.thread.strategy.EatWhatYouKill.run(EatWhatYouKill.java:131)\n\tat org.eclipse.jetty.util.thread.ReservedThreadExecutor$ReservedThread.run(ReservedThreadExecutor.java:409)\n\tat com.databricks.rpc.InstrumentedQueuedThreadPool$$anon$1.$anonfun$run$2(InstrumentedQueuedThreadPool.scala:110)\n\tat scala.runtime.java8.JFunction0$mcV$sp.apply(JFunction0$mcV$sp.java:23)\n\tat com.databricks.logging.AttributionContextTracing.$anonfun$withAttributionContext$1(AttributionContextTracing.scala:49)\n\tat com.databricks.logging.AttributionContext$.$anonfun$withValue$1(AttributionContext.scala:293)\n\tat scala.util.DynamicVariable.withValue(DynamicVariable.scala:62)\n\tat com.databricks.logging.AttributionContext$.withValue(AttributionContext.scala:289)\n\tat com.databricks.logging.AttributionContextTracing.withAttributionContext(AttributionContextTracing.scala:47)\n\tat com.databricks.logging.AttributionContextTracing.withAttributionContext$(AttributionContextTracing.scala:44)\n\tat com.databricks.rpc.InstrumentedQueuedThreadPool.withAttributionContext(InstrumentedQueuedThreadPool.scala:45)\n\tat com.databricks.rpc.InstrumentedQueuedThreadPool$$anon$1.$anonfun$run$1(InstrumentedQueuedThreadPool.scala:110)\n\tat scala.runtime.java8.JFunction0$mcV$sp.apply(JFunction0$mcV$sp.java:23)\n\tat com.databricks.instrumentation.QueuedThreadPoolInstrumenter.trackActiveThreads(QueuedThreadPoolInstrumenter.scala:132)\n\tat com.databricks.instrumentation.QueuedThreadPoolInstrumenter.trackActiveThreads$(QueuedThreadPoolInstrumenter.scala:129)\n\tat com.databricks.rpc.InstrumentedQueuedThreadPool.trackActiveThreads(InstrumentedQueuedThreadPool.scala:45)\n\tat com.databricks.rpc.InstrumentedQueuedThreadPool$$anon$1.run(InstrumentedQueuedThreadPool.scala:92)\n\tat org.eclipse.jetty.util.thread.QueuedThreadPool.runJob(QueuedThreadPool.java:883)\n\tat org.eclipse.jetty.util.thread.QueuedThreadPool$Runner.run(QueuedThreadPool.java:1034)\n\tat java.lang.Thread.run(Thread.java:840)\n"
       },
       "removedWidgets": [],
       "sqlProps": null,
       "stackFrames": [
        "\u001B[0;31m---------------------------------------------------------------------------\u001B[0m",
        "\u001B[0;31mExecutionError\u001B[0m                            Traceback (most recent call last)",
        "File \u001B[0;32m<command-5992162601892664>, line 1\u001B[0m\n\u001B[0;32m----> 1\u001B[0m dbutils\u001B[38;5;241m.\u001B[39mfs\u001B[38;5;241m.\u001B[39mmount(\n\u001B[1;32m      2\u001B[0m     source\u001B[38;5;241m=\u001B[39m\u001B[38;5;124m\"\u001B[39m\u001B[38;5;124mwasbs://filestore@hbgdevstorage.blob.core.windows.net/\u001B[39m\u001B[38;5;124m\"\u001B[39m,\n\u001B[1;32m      3\u001B[0m     mount_point\u001B[38;5;241m=\u001B[39m\u001B[38;5;124m\"\u001B[39m\u001B[38;5;124m/mnt/adls\u001B[39m\u001B[38;5;124m\"\u001B[39m,\n\u001B[1;32m      4\u001B[0m     extra_configs\u001B[38;5;241m=\u001B[39m{\u001B[38;5;124m\"\u001B[39m\u001B[38;5;124mfs.azure.account.key.hbgdevstorage.blob.core.windows.net\u001B[39m\u001B[38;5;124m\"\u001B[39m:\u001B[38;5;124m\"\u001B[39m\u001B[38;5;124m27z744YtQ/nekQxE4FyjgLSuIxkFVBY/OIaFTr0CvfecJResP4FCXcF+4GRX+/O3KRMCF56j4dqm+ASt6sCfjg==\u001B[39m\u001B[38;5;124m\"\u001B[39m}\n\u001B[1;32m      5\u001B[0m )\n",
        "File \u001B[0;32m/databricks/python_shell/lib/dbruntime/dbutils.py:172\u001B[0m, in \u001B[0;36mprettify_exception_message.<locals>.f_with_exception_handling\u001B[0;34m(*args, **kwargs)\u001B[0m\n\u001B[1;32m    170\u001B[0m exc\u001B[38;5;241m.\u001B[39m__context__ \u001B[38;5;241m=\u001B[39m \u001B[38;5;28;01mNone\u001B[39;00m\n\u001B[1;32m    171\u001B[0m exc\u001B[38;5;241m.\u001B[39m__cause__ \u001B[38;5;241m=\u001B[39m \u001B[38;5;28;01mNone\u001B[39;00m\n\u001B[0;32m--> 172\u001B[0m \u001B[38;5;28;01mraise\u001B[39;00m exc\n",
        "\u001B[0;31mExecutionError\u001B[0m: An error occurred while calling o445.mount.\n: java.rmi.RemoteException: java.lang.IllegalArgumentException: requirement failed: Directory already mounted: /mnt/adls; nested exception is: \n\tjava.lang.IllegalArgumentException: requirement failed: Directory already mounted: /mnt/adls\n\tat com.databricks.backend.daemon.data.client.BaseDbfsClient.send0(BaseDbfsClient.scala:161)\n\tat com.databricks.backend.daemon.data.client.BaseDbfsClient.sendIdempotent(BaseDbfsClient.scala:69)\n\tat com.databricks.backend.daemon.dbutils.DBUtilsCore.createOrUpdateMount(DBUtilsCore.scala:1385)\n\tat com.databricks.backend.daemon.dbutils.DBUtilsCore.$anonfun$mount$1(DBUtilsCore.scala:1411)\n\tat com.databricks.logging.UsageLogging.$anonfun$recordOperation$1(UsageLogging.scala:510)\n\tat com.databricks.logging.UsageLogging.executeThunkAndCaptureResultTags$1(UsageLogging.scala:616)\n\tat com.databricks.logging.UsageLogging.$anonfun$recordOperationWithResultTags$4(UsageLogging.scala:643)\n\tat com.databricks.logging.AttributionContextTracing.$anonfun$withAttributionContext$1(AttributionContextTracing.scala:49)\n\tat com.databricks.logging.AttributionContext$.$anonfun$withValue$1(AttributionContext.scala:293)\n\tat scala.util.DynamicVariable.withValue(DynamicVariable.scala:62)\n\tat com.databricks.logging.AttributionContext$.withValue(AttributionContext.scala:289)\n\tat com.databricks.logging.AttributionContextTracing.withAttributionContext(AttributionContextTracing.scala:47)\n\tat com.databricks.logging.AttributionContextTracing.withAttributionContext$(AttributionContextTracing.scala:44)\n\tat com.databricks.backend.daemon.dbutils.FSUtils.withAttributionContext(DBUtilsCore.scala:89)\n\tat com.databricks.logging.AttributionContextTracing.withAttributionTags(AttributionContextTracing.scala:96)\n\tat com.databricks.logging.AttributionContextTracing.withAttributionTags$(AttributionContextTracing.scala:77)\n\tat com.databricks.backend.daemon.dbutils.FSUtils.withAttributionTags(DBUtilsCore.scala:89)\n\tat com.databricks.logging.UsageLogging.recordOperationWithResultTags(UsageLogging.scala:611)\n\tat com.databricks.logging.UsageLogging.recordOperationWithResultTags$(UsageLogging.scala:519)\n\tat com.databricks.backend.daemon.dbutils.FSUtils.recordOperationWithResultTags(DBUtilsCore.scala:89)\n\tat com.databricks.logging.UsageLogging.recordOperation(UsageLogging.scala:511)\n\tat com.databricks.logging.UsageLogging.recordOperation$(UsageLogging.scala:475)\n\tat com.databricks.backend.daemon.dbutils.FSUtils.recordOperation(DBUtilsCore.scala:89)\n\tat com.databricks.backend.daemon.dbutils.FSUtils.recordDbutilsFsOp(DBUtilsCore.scala:154)\n\tat com.databricks.backend.daemon.dbutils.DBUtilsCore.mount(DBUtilsCore.scala:1405)\n\tat java.base/jdk.internal.reflect.NativeMethodAccessorImpl.invoke0(Native Method)\n\tat java.base/jdk.internal.reflect.NativeMethodAccessorImpl.invoke(NativeMethodAccessorImpl.java:77)\n\tat java.base/jdk.internal.reflect.DelegatingMethodAccessorImpl.invoke(DelegatingMethodAccessorImpl.java:43)\n\tat java.base/java.lang.reflect.Method.invoke(Method.java:569)\n\tat py4j.reflection.MethodInvoker.invoke(MethodInvoker.java:244)\n\tat py4j.reflection.ReflectionEngine.invoke(ReflectionEngine.java:397)\n\tat py4j.Gateway.invoke(Gateway.java:306)\n\tat py4j.commands.AbstractCommand.invokeMethod(AbstractCommand.java:132)\n\tat py4j.commands.CallCommand.execute(CallCommand.java:79)\n\tat py4j.ClientServerConnection.waitForCommands(ClientServerConnection.java:197)\n\tat py4j.ClientServerConnection.run(ClientServerConnection.java:117)\n\tat java.base/java.lang.Thread.run(Thread.java:840)\nCaused by: java.lang.IllegalArgumentException: requirement failed: Directory already mounted: /mnt/adls\n\tat scala.Predef$.require(Predef.scala:281)\n\tat com.databricks.backend.daemon.data.server.DefaultMetadataManager.$anonfun$insertMount$1(MetadataManager.scala:859)\n\tat com.databricks.backend.daemon.data.server.DefaultMetadataManager.$anonfun$modifyAndVerify$2(MetadataManager.scala:1241)\n\tat scala.runtime.java8.JFunction0$mcV$sp.apply(JFunction0$mcV$sp.java:23)\n\tat com.databricks.backend.daemon.data.server.DefaultMetadataManager.withRetries(MetadataManager.scala:1014)\n\tat com.databricks.backend.daemon.data.server.DefaultMetadataManager.modifyAndVerify(MetadataManager.scala:1230)\n\tat com.databricks.backend.daemon.data.server.DefaultMetadataManager.insertMount(MetadataManager.scala:867)\n\tat com.databricks.backend.daemon.data.server.handler.MountHandler.receive(MountHandler.scala:131)\n\tat com.databricks.backend.daemon.data.server.handler.DbfsRequestHandler.receive(DbfsRequestHandler.scala:16)\n\tat com.databricks.backend.daemon.data.server.handler.DbfsRequestHandler.receive$(DbfsRequestHandler.scala:15)\n\tat com.databricks.backend.daemon.data.server.handler.MountHandler.receive(MountHandler.scala:39)\n\tat com.databricks.backend.daemon.data.server.session.SessionContext.$anonfun$queryHandlers$1(SessionContext.scala:54)\n\tat com.databricks.backend.daemon.data.server.session.SessionContext.$anonfun$queryHandlers$1$adapted(SessionContext.scala:53)\n\tat scala.collection.immutable.List.foreach(List.scala:431)\n\tat com.databricks.backend.daemon.data.server.session.SessionContext.queryHandlers(SessionContext.scala:53)\n\tat com.databricks.backend.daemon.data.server.DbfsServerBackend$$anonfun$receive$4.$anonfun$applyOrElse$10(DbfsServerBackend.scala:561)\n\tat com.databricks.logging.AttributionContextTracing.$anonfun$withAttributionContext$1(AttributionContextTracing.scala:49)\n\tat com.databricks.logging.AttributionContext$.$anonfun$withValue$1(AttributionContext.scala:293)\n\tat scala.util.DynamicVariable.withValue(DynamicVariable.scala:62)\n\tat com.databricks.logging.AttributionContext$.withValue(AttributionContext.scala:289)\n\tat com.databricks.logging.AttributionContextTracing.withAttributionContext(AttributionContextTracing.scala:47)\n\tat com.databricks.logging.AttributionContextTracing.withAttributionContext$(AttributionContextTracing.scala:44)\n\tat com.databricks.rpc.ServerBackend.withAttributionContext(ServerBackend.scala:22)\n\tat com.databricks.logging.AttributionContextTracing.withAttributionTags(AttributionContextTracing.scala:96)\n\tat com.databricks.logging.AttributionContextTracing.withAttributionTags$(AttributionContextTracing.scala:77)\n\tat com.databricks.rpc.ServerBackend.withAttributionTags(ServerBackend.scala:22)\n\tat com.databricks.backend.daemon.data.server.DbfsServerBackend$$anonfun$receive$4.applyOrElse(DbfsServerBackend.scala:561)\n\tat com.databricks.backend.daemon.data.server.DbfsServerBackend$$anonfun$receive$4.applyOrElse(DbfsServerBackend.scala:450)\n\tat com.databricks.rpc.ServerBackend.$anonfun$internalReceive0$2(ServerBackend.scala:174)\n\tat com.databricks.rpc.ServerBackend$$anonfun$commonReceive$1.applyOrElse(ServerBackend.scala:200)\n\tat com.databricks.rpc.ServerBackend$$anonfun$commonReceive$1.applyOrElse(ServerBackend.scala:200)\n\tat com.databricks.rpc.ServerBackend.internalReceive0(ServerBackend.scala:171)\n\tat com.databricks.rpc.ServerBackend.$anonfun$internalReceive$1(ServerBackend.scala:147)\n\tat com.databricks.logging.UsageLogging.$anonfun$recordOperation$1(UsageLogging.scala:510)\n\tat com.databricks.logging.UsageLogging.executeThunkAndCaptureResultTags$1(UsageLogging.scala:616)\n\tat com.databricks.logging.UsageLogging.$anonfun$recordOperationWithResultTags$4(UsageLogging.scala:643)\n\tat com.databricks.logging.AttributionContextTracing.$anonfun$withAttributionContext$1(AttributionContextTracing.scala:49)\n\tat com.databricks.logging.AttributionContext$.$anonfun$withValue$1(AttributionContext.scala:293)\n\tat scala.util.DynamicVariable.withValue(DynamicVariable.scala:62)\n\tat com.databricks.logging.AttributionContext$.withValue(AttributionContext.scala:289)\n\tat com.databricks.logging.AttributionContextTracing.withAttributionContext(AttributionContextTracing.scala:47)\n\tat com.databricks.logging.AttributionContextTracing.withAttributionContext$(AttributionContextTracing.scala:44)\n\tat com.databricks.rpc.ServerBackend.withAttributionContext(ServerBackend.scala:22)\n\tat com.databricks.logging.AttributionContextTracing.withAttributionTags(AttributionContextTracing.scala:96)\n\tat com.databricks.logging.AttributionContextTracing.withAttributionTags$(AttributionContextTracing.scala:77)\n\tat com.databricks.rpc.ServerBackend.withAttributionTags(ServerBackend.scala:22)\n\tat com.databricks.logging.UsageLogging.recordOperationWithResultTags(UsageLogging.scala:611)\n\tat com.databricks.logging.UsageLogging.recordOperationWithResultTags$(UsageLogging.scala:519)\n\tat com.databricks.rpc.ServerBackend.recordOperationWithResultTags(ServerBackend.scala:22)\n\tat com.databricks.logging.UsageLogging.recordOperation(UsageLogging.scala:511)\n\tat com.databricks.logging.UsageLogging.recordOperation$(UsageLogging.scala:475)\n\tat com.databricks.rpc.ServerBackend.recordOperation(ServerBackend.scala:22)\n\tat com.databricks.rpc.ServerBackend.internalReceive(ServerBackend.scala:146)\n\tat com.databricks.rpc.JettyServer$RequestManager.handleRPC(JettyServer.scala:1033)\n\tat com.databricks.rpc.JettyServer$RequestManager.handleRequestAndRespond(JettyServer.scala:953)\n\tat com.databricks.rpc.JettyServer$RequestManager.$anonfun$handleHttp$5(JettyServer.scala:548)\n\tat com.databricks.rpc.JettyServer$RequestManager.$anonfun$handleHttp$5$adapted(JettyServer.scala:513)\n\tat com.databricks.logging.activity.ActivityContextFactory$.$anonfun$withActivityInternal$12(ActivityContextFactory.scala:826)\n\tat com.databricks.logging.AttributionContextTracing.$anonfun$withAttributionContext$1(AttributionContextTracing.scala:49)\n\tat com.databricks.logging.AttributionContext$.$anonfun$withValue$1(AttributionContext.scala:293)\n\tat scala.util.DynamicVariable.withValue(DynamicVariable.scala:62)\n\tat com.databricks.logging.AttributionContext$.withValue(AttributionContext.scala:289)\n\tat com.databricks.logging.AttributionContextTracing.withAttributionContext(AttributionContextTracing.scala:47)\n\tat com.databricks.logging.AttributionContextTracing.withAttributionContext$(AttributionContextTracing.scala:44)\n\tat com.databricks.logging.activity.ActivityContextFactory$.withAttributionContext(ActivityContextFactory.scala:53)\n\tat com.databricks.logging.activity.ActivityContextFactory$.$anonfun$withActivityInternal$2(ActivityContextFactory.scala:826)\n\tat com.databricks.context.integrity.IntegrityCheckContext$ThreadLocalStorage$.withValue(IntegrityCheckContext.scala:73)\n\tat com.databricks.logging.activity.ActivityContextFactory$.withActivityInternal(ActivityContextFactory.scala:789)\n\tat com.databricks.logging.activity.ActivityContextFactory$.withActivityInternal(ActivityContextFactory.scala:771)\n\tat com.databricks.logging.activity.ActivityContextFactory$.$anonfun$withServiceRequestActivity$15(ActivityContextFactory.scala:291)\n\tat com.databricks.logging.AttributionContextTracing.$anonfun$withAttributionContext$1(AttributionContextTracing.scala:49)\n\tat com.databricks.logging.AttributionContext$.$anonfun$withValue$1(AttributionContext.scala:293)\n\tat scala.util.DynamicVariable.withValue(DynamicVariable.scala:62)\n\tat com.databricks.logging.AttributionContext$.withValue(AttributionContext.scala:289)\n\tat com.databricks.logging.AttributionContextTracing.withAttributionContext(AttributionContextTracing.scala:47)\n\tat com.databricks.logging.AttributionContextTracing.withAttributionContext$(AttributionContextTracing.scala:44)\n\tat com.databricks.logging.activity.ActivityContextFactory$.withAttributionContext(ActivityContextFactory.scala:53)\n\tat com.databricks.logging.activity.ActivityContextFactory$.withServiceRequestActivity(ActivityContextFactory.scala:291)\n\tat com.databricks.rpc.JettyServer$RequestManager.handleHttp(JettyServer.scala:513)\n\tat com.databricks.rpc.JettyServer$RequestManager.doPost(JettyServer.scala:408)\n\tat javax.servlet.http.HttpServlet.service(HttpServlet.java:665)\n\tat com.databricks.rpc.HttpServletWithPatch.service(HttpServletWithPatch.scala:33)\n\tat javax.servlet.http.HttpServlet.service(HttpServlet.java:750)\n\tat org.eclipse.jetty.servlet.ServletHolder.handle(ServletHolder.java:799)\n\tat org.eclipse.jetty.servlet.ServletHandler.doHandle(ServletHandler.java:554)\n\tat org.eclipse.jetty.server.handler.ScopedHandler.nextScope(ScopedHandler.java:190)\n\tat org.eclipse.jetty.servlet.ServletHandler.doScope(ServletHandler.java:505)\n\tat org.eclipse.jetty.server.handler.ScopedHandler.handle(ScopedHandler.java:141)\n\tat org.eclipse.jetty.server.handler.HandlerWrapper.handle(HandlerWrapper.java:127)\n\tat org.eclipse.jetty.server.Server.handle(Server.java:516)\n\tat org.eclipse.jetty.server.HttpChannel.lambda$handle$1(HttpChannel.java:487)\n\tat org.eclipse.jetty.server.HttpChannel.dispatch(HttpChannel.java:732)\n\tat org.eclipse.jetty.server.HttpChannel.handle(HttpChannel.java:479)\n\tat org.eclipse.jetty.server.HttpConnection.onFillable(HttpConnection.java:277)\n\tat org.eclipse.jetty.io.AbstractConnection$ReadCallback.succeeded(AbstractConnection.java:311)\n\tat org.eclipse.jetty.io.FillInterest.fillable(FillInterest.java:105)\n\tat org.eclipse.jetty.io.ChannelEndPoint$1.run(ChannelEndPoint.java:104)\n\tat org.eclipse.jetty.util.thread.strategy.EatWhatYouKill.runTask(EatWhatYouKill.java:338)\n\tat org.eclipse.jetty.util.thread.strategy.EatWhatYouKill.doProduce(EatWhatYouKill.java:315)\n\tat org.eclipse.jetty.util.thread.strategy.EatWhatYouKill.tryProduce(EatWhatYouKill.java:173)\n\tat org.eclipse.jetty.util.thread.strategy.EatWhatYouKill.run(EatWhatYouKill.java:131)\n\tat org.eclipse.jetty.util.thread.ReservedThreadExecutor$ReservedThread.run(ReservedThreadExecutor.java:409)\n\tat com.databricks.rpc.InstrumentedQueuedThreadPool$$anon$1.$anonfun$run$2(InstrumentedQueuedThreadPool.scala:110)\n\tat scala.runtime.java8.JFunction0$mcV$sp.apply(JFunction0$mcV$sp.java:23)\n\tat com.databricks.logging.AttributionContextTracing.$anonfun$withAttributionContext$1(AttributionContextTracing.scala:49)\n\tat com.databricks.logging.AttributionContext$.$anonfun$withValue$1(AttributionContext.scala:293)\n\tat scala.util.DynamicVariable.withValue(DynamicVariable.scala:62)\n\tat com.databricks.logging.AttributionContext$.withValue(AttributionContext.scala:289)\n\tat com.databricks.logging.AttributionContextTracing.withAttributionContext(AttributionContextTracing.scala:47)\n\tat com.databricks.logging.AttributionContextTracing.withAttributionContext$(AttributionContextTracing.scala:44)\n\tat com.databricks.rpc.InstrumentedQueuedThreadPool.withAttributionContext(InstrumentedQueuedThreadPool.scala:45)\n\tat com.databricks.rpc.InstrumentedQueuedThreadPool$$anon$1.$anonfun$run$1(InstrumentedQueuedThreadPool.scala:110)\n\tat scala.runtime.java8.JFunction0$mcV$sp.apply(JFunction0$mcV$sp.java:23)\n\tat com.databricks.instrumentation.QueuedThreadPoolInstrumenter.trackActiveThreads(QueuedThreadPoolInstrumenter.scala:132)\n\tat com.databricks.instrumentation.QueuedThreadPoolInstrumenter.trackActiveThreads$(QueuedThreadPoolInstrumenter.scala:129)\n\tat com.databricks.rpc.InstrumentedQueuedThreadPool.trackActiveThreads(InstrumentedQueuedThreadPool.scala:45)\n\tat com.databricks.rpc.InstrumentedQueuedThreadPool$$anon$1.run(InstrumentedQueuedThreadPool.scala:92)\n\tat org.eclipse.jetty.util.thread.QueuedThreadPool.runJob(QueuedThreadPool.java:883)\n\tat org.eclipse.jetty.util.thread.QueuedThreadPool$Runner.run(QueuedThreadPool.java:1034)\n\tat java.lang.Thread.run(Thread.java:840)\n"
       ],
       "type": "baseError"
      }
     },
     "output_type": "display_data"
    }
   ],
   "source": [
    "dbutils.fs.mount(\n",
    "    source=\"wasbs://filestore@hbgdevstorage.blob.core.windows.net/\",\n",
    "    mount_point=\"/mnt/adls\",\n",
    "    extra_configs={\"fs.azure.account.key.hbgdevstorage.blob.core.windows.net\":\"27z744YtQ/nekQxE4FyjgLSuIxkFVBY/OIaFTr0CvfecJResP4FCXcF+4GRX+/O3KRMCF56j4dqm+ASt6sCfjg==\"}\n",
    ")"
   ]
  },
  {
   "cell_type": "markdown",
   "metadata": {
    "application/vnd.databricks.v1+cell": {
     "cellMetadata": {},
     "inputWidgets": {},
     "nuid": "554c4d24-ad0a-4772-9f01-7d19dd124bd3",
     "showTitle": false,
     "tableResultSettingsMap": {},
     "title": ""
    }
   },
   "source": [
    "Once the mount point is created i run the below script in my local terminal to copy the file from my local to the mount point.\n",
    "\n",
    "databricks fs cp ~/Downloads/Flight_Data.csv dbfs:/mnt/adls/Flight_Data.csv\n",
    "\n",
    "We can also do this by manually uploading the file to the storage path. (Upload directly in Azure in this case)"
   ]
  },
  {
   "cell_type": "markdown",
   "metadata": {
    "application/vnd.databricks.v1+cell": {
     "cellMetadata": {},
     "inputWidgets": {},
     "nuid": "e3a879be-3340-4a49-989d-080f97c4b234",
     "showTitle": false,
     "tableResultSettingsMap": {},
     "title": ""
    }
   },
   "source": [
    "**Listing the files in the mount point /mnt/adls/**"
   ]
  },
  {
   "cell_type": "code",
   "execution_count": 0,
   "metadata": {
    "application/vnd.databricks.v1+cell": {
     "cellMetadata": {
      "byteLimit": 2048000,
      "rowLimit": 10000
     },
     "inputWidgets": {},
     "nuid": "b04189b1-abdf-42a6-82af-9e818a53bdf3",
     "showTitle": false,
     "tableResultSettingsMap": {},
     "title": ""
    }
   },
   "outputs": [
    {
     "output_type": "execute_result",
     "data": {
      "text/plain": [
       "[FileInfo(path='dbfs:/mnt/adls/Balaji_Fast_Food_Sales.csv', name='Balaji_Fast_Food_Sales.csv', size=62494, modificationTime=1743890368000),\n",
       " FileInfo(path='dbfs:/mnt/adls/Details.csv', name='Details.csv', size=63384, modificationTime=1740179475000),\n",
       " FileInfo(path='dbfs:/mnt/adls/Details1.csv', name='Details1.csv', size=479, modificationTime=1741729888000),\n",
       " FileInfo(path='dbfs:/mnt/adls/Flight_Data.csv', name='Flight_Data.csv', size=4929, modificationTime=1748824049000),\n",
       " FileInfo(path='dbfs:/mnt/adls/Orders.csv', name='Orders.csv', size=23224, modificationTime=1740179475000),\n",
       " FileInfo(path='dbfs:/mnt/adls/SalesDW/', name='SalesDW/', size=0, modificationTime=0),\n",
       " FileInfo(path='dbfs:/mnt/adls/ingredients_csv/', name='ingredients_csv/', size=0, modificationTime=1743892580000),\n",
       " FileInfo(path='dbfs:/mnt/adls/products.csv', name='products.csv', size=14372, modificationTime=1740349112000)]"
      ]
     },
     "execution_count": 4,
     "metadata": {},
     "output_type": "execute_result"
    }
   ],
   "source": [
    "dbutils.fs.ls(\"/mnt/adls/\")"
   ]
  },
  {
   "cell_type": "markdown",
   "metadata": {
    "application/vnd.databricks.v1+cell": {
     "cellMetadata": {},
     "inputWidgets": {},
     "nuid": "1d0b2447-c33d-4d71-be03-cf2cee68d6ba",
     "showTitle": false,
     "tableResultSettingsMap": {},
     "title": ""
    }
   },
   "source": [
    "**1. Load the attached CSV file located in C:/user$/documents/ into a PySpark DataFrame**\n",
    "\n",
    "I am using read.format('csv') with header as true and inferSchema to get the schema from the file. I read the file from the mount point created to a dataframe df_flight_data."
   ]
  },
  {
   "cell_type": "code",
   "execution_count": 0,
   "metadata": {
    "application/vnd.databricks.v1+cell": {
     "cellMetadata": {
      "byteLimit": 2048000,
      "rowLimit": 10000
     },
     "inputWidgets": {},
     "nuid": "593a28ee-dcb7-4231-be98-e5d457bd80f2",
     "showTitle": false,
     "tableResultSettingsMap": {},
     "title": ""
    }
   },
   "outputs": [
    {
     "output_type": "display_data",
     "data": {
      "text/html": [
       "<style scoped>\n",
       "  .table-result-container {\n",
       "    max-height: 300px;\n",
       "    overflow: auto;\n",
       "  }\n",
       "  table, th, td {\n",
       "    border: 1px solid black;\n",
       "    border-collapse: collapse;\n",
       "  }\n",
       "  th, td {\n",
       "    padding: 5px;\n",
       "  }\n",
       "  th {\n",
       "    text-align: left;\n",
       "  }\n",
       "</style><div class='table-result-container'><table class='table-result'><thead style='background-color: white'><tr><th>flight_id</th><th>airline_code</th><th>flight_number</th><th>origin_airport</th><th>destination_airport</th><th>aircraft_type</th><th>departure_time</th><th>arrival_time</th><th>passenger_count</th><th>flight_distance</th><th>ticket_price</th><th>flight_status</th></tr></thead><tbody><tr><td>FL001</td><td>NZ</td><td>101</td><td>AKL</td><td>CHC</td><td>Airbus A320</td><td>2024-01-15T08:00:00Z</td><td>2024-01-15T09:20:00Z</td><td>148</td><td>539</td><td>159.99</td><td>On Time</td></tr><tr><td>FL002</td><td>JQ</td><td>201</td><td>WLG</td><td>AKL</td><td>Airbus A320</td><td>2024-01-15T09:15:00Z</td><td>2024-01-15T10:30:00Z</td><td>156</td><td>484</td><td>89.99</td><td>Delayed</td></tr><tr><td>FL003</td><td>NZ</td><td>301</td><td>CHC</td><td>AKL</td><td>Boeing 737</td><td>2024-01-15T10:30:00Z</td><td>2024-01-15T11:50:00Z</td><td>142</td><td>539</td><td>149.99</td><td>On Time</td></tr><tr><td>FL004</td><td>VA</td><td>401</td><td>DUD</td><td>WLG</td><td>ATR 72</td><td>2024-01-15T12:00:00Z</td><td>2024-01-15T13:45:00Z</td><td>68</td><td>447</td><td>119.99</td><td>On Time</td></tr><tr><td>FL005</td><td>NZ</td><td>501</td><td>AKL</td><td>WLG</td><td>Airbus A321</td><td>2024-01-15T14:30:00Z</td><td>2024-01-15T15:45:00Z</td><td>163</td><td>484</td><td>109.99</td><td>Delayed</td></tr><tr><td>FL006</td><td>JQ</td><td>601</td><td>ROT</td><td>AKL</td><td>Airbus A320</td><td>2024-01-15T16:00:00Z</td><td>2024-01-15T17:10:00Z</td><td>134</td><td>230</td><td>79.99</td><td>On Time</td></tr><tr><td>FL007</td><td>NZ</td><td>701</td><td>WLG</td><td>CHC</td><td>Boeing 737</td><td>2024-01-15T18:45:00Z</td><td>2024-01-15T20:10:00Z</td><td>156</td><td>300</td><td>129.99</td><td>On Time</td></tr><tr><td>FL008</td><td>VA</td><td>801</td><td>HLZ</td><td>WLG</td><td>ATR 72</td><td>2024-01-15T20:00:00Z</td><td>2024-01-15T21:30:00Z</td><td>58</td><td>428</td><td>99.99</td><td>On Time</td></tr><tr><td>FL009</td><td>NZ</td><td>151</td><td>AKL</td><td>DUD</td><td>Airbus A320</td><td>2024-01-16T07:30:00Z</td><td>2024-01-16T09:15:00Z</td><td>159</td><td>986</td><td>199.99</td><td>Delayed</td></tr><tr><td>FL010</td><td>JQ</td><td>251</td><td>WLG</td><td>CHC</td><td>Airbus A320</td><td>2024-01-16T09:00:00Z</td><td>2024-01-16T10:25:00Z</td><td>168</td><td>300</td><td>89.99</td><td>On Time</td></tr><tr><td>FL011</td><td>NZ</td><td>351</td><td>CHC</td><td>WLG</td><td>Boeing 737</td><td>2024-01-16T11:15:00Z</td><td>2024-01-16T12:40:00Z</td><td>175</td><td>300</td><td>119.99</td><td>On Time</td></tr><tr><td>FL012</td><td>VA</td><td>451</td><td>PMR</td><td>AKL</td><td>ATR 72</td><td>2024-01-16T13:30:00Z</td><td>2024-01-16T15:15:00Z</td><td>61</td><td>522</td><td>139.99</td><td>On Time</td></tr><tr><td>FL013</td><td>NZ</td><td>551</td><td>AKL</td><td>HLZ</td><td>Airbus A321</td><td>2024-01-16T15:45:00Z</td><td>2024-01-16T17:00:00Z</td><td>161</td><td>151</td><td>69.99</td><td>Cancelled</td></tr><tr><td>FL014</td><td>JQ</td><td>651</td><td>ROT</td><td>CHC</td><td>Airbus A320</td><td>2024-01-16T17:00:00Z</td><td>2024-01-16T19:20:00Z</td><td>173</td><td>725</td><td>169.99</td><td>Delayed</td></tr><tr><td>FL015</td><td>NZ</td><td>751</td><td>WLG</td><td>DUD</td><td>Boeing 737</td><td>2024-01-16T19:30:00Z</td><td>2024-01-16T21:15:00Z</td><td>152</td><td>447</td><td>139.99</td><td>On Time</td></tr><tr><td>FL016</td><td>VA</td><td>851</td><td>HLZ</td><td>CHC</td><td>ATR 72</td><td>2024-01-17T06:00:00Z</td><td>2024-01-17T08:15:00Z</td><td>65</td><td>577</td><td>149.99</td><td>On Time</td></tr><tr><td>FL017</td><td>NZ</td><td>102</td><td>AKL</td><td>PMR</td><td>Airbus A320</td><td>2024-01-17T08:15:00Z</td><td>2024-01-17T09:45:00Z</td><td>166</td><td>522</td><td>159.99</td><td>On Time</td></tr><tr><td>FL018</td><td>JQ</td><td>202</td><td>WLG</td><td>ROT</td><td>Airbus A320</td><td>2024-01-17T10:30:00Z</td><td>2024-01-17T12:00:00Z</td><td>169</td><td>230</td><td>79.99</td><td>Delayed</td></tr><tr><td>FL019</td><td>NZ</td><td>302</td><td>CHC</td><td>DUD</td><td>Boeing 737</td><td>2024-01-17T12:45:00Z</td><td>2024-01-17T14:05:00Z</td><td>177</td><td>214</td><td>99.99</td><td>On Time</td></tr><tr><td>FL020</td><td>VA</td><td>402</td><td>DUD</td><td>AKL</td><td>ATR 72</td><td>2024-01-17T14:00:00Z</td><td>2024-01-17T16:45:00Z</td><td>71</td><td>986</td><td>229.99</td><td>On Time</td></tr><tr><td>FL021</td><td>NZ</td><td>502</td><td>AKL</td><td>ROT</td><td>Airbus A321</td><td>2024-01-17T16:15:00Z</td><td>2024-01-17T17:25:00Z</td><td>158</td><td>230</td><td>89.99</td><td>On Time</td></tr><tr><td>FL022</td><td>JQ</td><td>602</td><td>HLZ</td><td>WLG</td><td>Airbus A320</td><td>2024-01-17T18:30:00Z</td><td>2024-01-17T20:00:00Z</td><td>170</td><td>428</td><td>119.99</td><td>Delayed</td></tr><tr><td>FL023</td><td>NZ</td><td>702</td><td>WLG</td><td>AKL</td><td>Boeing 737</td><td>2024-01-17T20:45:00Z</td><td>2024-01-17T22:00:00Z</td><td>149</td><td>484</td><td>119.99</td><td>On Time</td></tr><tr><td>FL024</td><td>VA</td><td>802</td><td>PMR</td><td>CHC</td><td>ATR 72</td><td>2024-01-18T07:00:00Z</td><td>2024-01-18T09:45:00Z</td><td>67</td><td>747</td><td>179.99</td><td>On Time</td></tr><tr><td>FL025</td><td>NZ</td><td>152</td><td>AKL</td><td>WLG</td><td>Airbus A320</td><td>2024-01-18T09:30:00Z</td><td>2024-01-18T10:45:00Z</td><td>164</td><td>484</td><td>99.99</td><td>Delayed</td></tr><tr><td>FL026</td><td>JQ</td><td>252</td><td>CHC</td><td>AKL</td><td>Airbus A320</td><td>2024-01-18T11:45:00Z</td><td>2024-01-18T13:05:00Z</td><td>167</td><td>539</td><td>159.99</td><td>On Time</td></tr><tr><td>FL027</td><td>NZ</td><td>352</td><td>WLG</td><td>PMR</td><td>Boeing 737</td><td>2024-01-18T14:00:00Z</td><td>2024-01-18T15:30:00Z</td><td>179</td><td>522</td><td>149.99</td><td>On Time</td></tr><tr><td>FL028</td><td>VA</td><td>452</td><td>DUD</td><td>HLZ</td><td>ATR 72</td><td>2024-01-18T16:30:00Z</td><td>2024-01-18T18:30:00Z</td><td>63</td><td>559</td><td>159.99</td><td>On Time</td></tr><tr><td>FL029</td><td>NZ</td><td>552</td><td>AKL</td><td>CHC</td><td>Airbus A321</td><td>2024-01-18T18:45:00Z</td><td>2024-01-18T20:05:00Z</td><td>162</td><td>539</td><td>149.99</td><td>Delayed</td></tr><tr><td>FL030</td><td>JQ</td><td>652</td><td>ROT</td><td>WLG</td><td>Airbus A320</td><td>2024-01-18T20:00:00Z</td><td>2024-01-18T21:30:00Z</td><td>172</td><td>230</td><td>89.99</td><td>On Time</td></tr><tr><td>FL031</td><td>NZ</td><td>752</td><td>WLG</td><td>HLZ</td><td>Boeing 737</td><td>2024-01-19T08:15:00Z</td><td>2024-01-19T10:45:00Z</td><td>153</td><td>428</td><td>129.99</td><td>On Time</td></tr><tr><td>FL032</td><td>VA</td><td>852</td><td>HLZ</td><td>AKL</td><td>ATR 72</td><td>2024-01-19T10:30:00Z</td><td>2024-01-19T11:45:00Z</td><td>69</td><td>151</td><td>79.99</td><td>On Time</td></tr><tr><td>FL033</td><td>NZ</td><td>103</td><td>AKL</td><td>DUD</td><td>Airbus A320</td><td>2024-01-19T12:45:00Z</td><td>2024-01-19T14:30:00Z</td><td>165</td><td>986</td><td>199.99</td><td>Cancelled</td></tr><tr><td>FL034</td><td>JQ</td><td>203</td><td>WLG</td><td>DUD</td><td>Airbus A320</td><td>2024-01-19T15:00:00Z</td><td>2024-01-19T16:45:00Z</td><td>168</td><td>447</td><td>139.99</td><td>Delayed</td></tr><tr><td>FL035</td><td>NZ</td><td>303</td><td>CHC</td><td>PMR</td><td>Boeing 737</td><td>2024-01-19T17:15:00Z</td><td>2024-01-19T19:30:00Z</td><td>176</td><td>747</td><td>189.99</td><td>On Time</td></tr><tr><td>FL036</td><td>VA</td><td>403</td><td>PMR</td><td>WLG</td><td>ATR 72</td><td>2024-01-19T19:30:00Z</td><td>2024-01-19T21:00:00Z</td><td>64</td><td>522</td><td>149.99</td><td>On Time</td></tr><tr><td>FL037</td><td>NZ</td><td>503</td><td>AKL</td><td>HLZ</td><td>Airbus A321</td><td>2024-01-19T21:45:00Z</td><td>2024-01-19T23:00:00Z</td><td>163</td><td>151</td><td>69.99</td><td>On Time</td></tr><tr><td>FL038</td><td>JQ</td><td>603</td><td>ROT</td><td>DUD</td><td>Airbus A320</td><td>2024-01-20T06:00:00Z</td><td>2024-01-20T08:15:00Z</td><td>171</td><td>795</td><td>199.99</td><td>Delayed</td></tr><tr><td>FL039</td><td>NZ</td><td>703</td><td>WLG</td><td>ROT</td><td>Boeing 737</td><td>2024-01-20T08:30:00Z</td><td>2024-01-20T10:00:00Z</td><td>178</td><td>230</td><td>89.99</td><td>On Time</td></tr><tr><td>FL040</td><td>VA</td><td>803</td><td>HLZ</td><td>PMR</td><td>ATR 72</td><td>2024-01-20T10:45:00Z</td><td>2024-01-20T12:30:00Z</td><td>66</td><td>673</td><td>169.99</td><td>On Time</td></tr><tr><td>FL041</td><td>NZ</td><td>153</td><td>AKL</td><td>WLG</td><td>Airbus A320</td><td>2024-01-20T13:00:00Z</td><td>2024-01-20T14:15:00Z</td><td>160</td><td>484</td><td>109.99</td><td>Delayed</td></tr><tr><td>FL042</td><td>JQ</td><td>253</td><td>CHC</td><td>HLZ</td><td>Airbus A320</td><td>2024-01-20T15:15:00Z</td><td>2024-01-20T17:30:00Z</td><td>169</td><td>577</td><td>159.99</td><td>On Time</td></tr><tr><td>FL043</td><td>NZ</td><td>353</td><td>WLG</td><td>CHC</td><td>Boeing 737</td><td>2024-01-20T17:30:00Z</td><td>2024-01-20T18:55:00Z</td><td>154</td><td>300</td><td>119.99</td><td>On Time</td></tr><tr><td>FL044</td><td>VA</td><td>453</td><td>DUD</td><td>PMR</td><td>ATR 72</td><td>2024-01-20T19:45:00Z</td><td>2024-01-20T22:00:00Z</td><td>62</td><td>880</td><td>219.99</td><td>On Time</td></tr><tr><td>FL045</td><td>NZ</td><td>553</td><td>AKL</td><td>ROT</td><td>Airbus A321</td><td>2024-01-20T22:00:00Z</td><td>2024-01-20T23:10:00Z</td><td>165</td><td>230</td><td>89.99</td><td>Delayed</td></tr><tr><td>FL046</td><td>JQ</td><td>653</td><td>HLZ</td><td>DUD</td><td>Airbus A320</td><td>2024-01-21T07:15:00Z</td><td>2024-01-21T09:15:00Z</td><td>170</td><td>559</td><td>169.99</td><td>On Time</td></tr><tr><td>FL047</td><td>NZ</td><td>753</td><td>WLG</td><td>PMR</td><td>Boeing 737</td><td>2024-01-21T09:30:00Z</td><td>2024-01-21T11:00:00Z</td><td>177</td><td>522</td><td>149.99</td><td>On Time</td></tr><tr><td>FL048</td><td>VA</td><td>853</td><td>PMR</td><td>HLZ</td><td>ATR 72</td><td>2024-01-21T11:45:00Z</td><td>2024-01-21T13:30:00Z</td><td>68</td><td>673</td><td>169.99</td><td>On Time</td></tr><tr><td>FL049</td><td>NZ</td><td>104</td><td>AKL</td><td>CHC</td><td>Airbus A320</td><td>2024-01-21T14:00:00Z</td><td>2024-01-21T15:20:00Z</td><td>161</td><td>539</td><td>149.99</td><td>Cancelled</td></tr><tr><td>FL050</td><td>JQ</td><td>204</td><td>WLG</td><td>AKL</td><td>Airbus A320</td><td>2024-01-21T16:30:00Z</td><td>2024-01-21T17:45:00Z</td><td>168</td><td>484</td><td>99.99</td><td>On Time</td></tr></tbody></table></div>"
      ]
     },
     "metadata": {
      "application/vnd.databricks.v1+output": {
       "addedWidgets": {},
       "aggData": [],
       "aggError": "",
       "aggOverflow": false,
       "aggSchema": [],
       "aggSeriesLimitReached": false,
       "aggType": "",
       "arguments": {},
       "columnCustomDisplayInfos": {},
       "data": [
        [
         "FL001",
         "NZ",
         101,
         "AKL",
         "CHC",
         "Airbus A320",
         "2024-01-15T08:00:00Z",
         "2024-01-15T09:20:00Z",
         148,
         539,
         159.99,
         "On Time"
        ],
        [
         "FL002",
         "JQ",
         201,
         "WLG",
         "AKL",
         "Airbus A320",
         "2024-01-15T09:15:00Z",
         "2024-01-15T10:30:00Z",
         156,
         484,
         89.99,
         "Delayed"
        ],
        [
         "FL003",
         "NZ",
         301,
         "CHC",
         "AKL",
         "Boeing 737",
         "2024-01-15T10:30:00Z",
         "2024-01-15T11:50:00Z",
         142,
         539,
         149.99,
         "On Time"
        ],
        [
         "FL004",
         "VA",
         401,
         "DUD",
         "WLG",
         "ATR 72",
         "2024-01-15T12:00:00Z",
         "2024-01-15T13:45:00Z",
         68,
         447,
         119.99,
         "On Time"
        ],
        [
         "FL005",
         "NZ",
         501,
         "AKL",
         "WLG",
         "Airbus A321",
         "2024-01-15T14:30:00Z",
         "2024-01-15T15:45:00Z",
         163,
         484,
         109.99,
         "Delayed"
        ],
        [
         "FL006",
         "JQ",
         601,
         "ROT",
         "AKL",
         "Airbus A320",
         "2024-01-15T16:00:00Z",
         "2024-01-15T17:10:00Z",
         134,
         230,
         79.99,
         "On Time"
        ],
        [
         "FL007",
         "NZ",
         701,
         "WLG",
         "CHC",
         "Boeing 737",
         "2024-01-15T18:45:00Z",
         "2024-01-15T20:10:00Z",
         156,
         300,
         129.99,
         "On Time"
        ],
        [
         "FL008",
         "VA",
         801,
         "HLZ",
         "WLG",
         "ATR 72",
         "2024-01-15T20:00:00Z",
         "2024-01-15T21:30:00Z",
         58,
         428,
         99.99,
         "On Time"
        ],
        [
         "FL009",
         "NZ",
         151,
         "AKL",
         "DUD",
         "Airbus A320",
         "2024-01-16T07:30:00Z",
         "2024-01-16T09:15:00Z",
         159,
         986,
         199.99,
         "Delayed"
        ],
        [
         "FL010",
         "JQ",
         251,
         "WLG",
         "CHC",
         "Airbus A320",
         "2024-01-16T09:00:00Z",
         "2024-01-16T10:25:00Z",
         168,
         300,
         89.99,
         "On Time"
        ],
        [
         "FL011",
         "NZ",
         351,
         "CHC",
         "WLG",
         "Boeing 737",
         "2024-01-16T11:15:00Z",
         "2024-01-16T12:40:00Z",
         175,
         300,
         119.99,
         "On Time"
        ],
        [
         "FL012",
         "VA",
         451,
         "PMR",
         "AKL",
         "ATR 72",
         "2024-01-16T13:30:00Z",
         "2024-01-16T15:15:00Z",
         61,
         522,
         139.99,
         "On Time"
        ],
        [
         "FL013",
         "NZ",
         551,
         "AKL",
         "HLZ",
         "Airbus A321",
         "2024-01-16T15:45:00Z",
         "2024-01-16T17:00:00Z",
         161,
         151,
         69.99,
         "Cancelled"
        ],
        [
         "FL014",
         "JQ",
         651,
         "ROT",
         "CHC",
         "Airbus A320",
         "2024-01-16T17:00:00Z",
         "2024-01-16T19:20:00Z",
         173,
         725,
         169.99,
         "Delayed"
        ],
        [
         "FL015",
         "NZ",
         751,
         "WLG",
         "DUD",
         "Boeing 737",
         "2024-01-16T19:30:00Z",
         "2024-01-16T21:15:00Z",
         152,
         447,
         139.99,
         "On Time"
        ],
        [
         "FL016",
         "VA",
         851,
         "HLZ",
         "CHC",
         "ATR 72",
         "2024-01-17T06:00:00Z",
         "2024-01-17T08:15:00Z",
         65,
         577,
         149.99,
         "On Time"
        ],
        [
         "FL017",
         "NZ",
         102,
         "AKL",
         "PMR",
         "Airbus A320",
         "2024-01-17T08:15:00Z",
         "2024-01-17T09:45:00Z",
         166,
         522,
         159.99,
         "On Time"
        ],
        [
         "FL018",
         "JQ",
         202,
         "WLG",
         "ROT",
         "Airbus A320",
         "2024-01-17T10:30:00Z",
         "2024-01-17T12:00:00Z",
         169,
         230,
         79.99,
         "Delayed"
        ],
        [
         "FL019",
         "NZ",
         302,
         "CHC",
         "DUD",
         "Boeing 737",
         "2024-01-17T12:45:00Z",
         "2024-01-17T14:05:00Z",
         177,
         214,
         99.99,
         "On Time"
        ],
        [
         "FL020",
         "VA",
         402,
         "DUD",
         "AKL",
         "ATR 72",
         "2024-01-17T14:00:00Z",
         "2024-01-17T16:45:00Z",
         71,
         986,
         229.99,
         "On Time"
        ],
        [
         "FL021",
         "NZ",
         502,
         "AKL",
         "ROT",
         "Airbus A321",
         "2024-01-17T16:15:00Z",
         "2024-01-17T17:25:00Z",
         158,
         230,
         89.99,
         "On Time"
        ],
        [
         "FL022",
         "JQ",
         602,
         "HLZ",
         "WLG",
         "Airbus A320",
         "2024-01-17T18:30:00Z",
         "2024-01-17T20:00:00Z",
         170,
         428,
         119.99,
         "Delayed"
        ],
        [
         "FL023",
         "NZ",
         702,
         "WLG",
         "AKL",
         "Boeing 737",
         "2024-01-17T20:45:00Z",
         "2024-01-17T22:00:00Z",
         149,
         484,
         119.99,
         "On Time"
        ],
        [
         "FL024",
         "VA",
         802,
         "PMR",
         "CHC",
         "ATR 72",
         "2024-01-18T07:00:00Z",
         "2024-01-18T09:45:00Z",
         67,
         747,
         179.99,
         "On Time"
        ],
        [
         "FL025",
         "NZ",
         152,
         "AKL",
         "WLG",
         "Airbus A320",
         "2024-01-18T09:30:00Z",
         "2024-01-18T10:45:00Z",
         164,
         484,
         99.99,
         "Delayed"
        ],
        [
         "FL026",
         "JQ",
         252,
         "CHC",
         "AKL",
         "Airbus A320",
         "2024-01-18T11:45:00Z",
         "2024-01-18T13:05:00Z",
         167,
         539,
         159.99,
         "On Time"
        ],
        [
         "FL027",
         "NZ",
         352,
         "WLG",
         "PMR",
         "Boeing 737",
         "2024-01-18T14:00:00Z",
         "2024-01-18T15:30:00Z",
         179,
         522,
         149.99,
         "On Time"
        ],
        [
         "FL028",
         "VA",
         452,
         "DUD",
         "HLZ",
         "ATR 72",
         "2024-01-18T16:30:00Z",
         "2024-01-18T18:30:00Z",
         63,
         559,
         159.99,
         "On Time"
        ],
        [
         "FL029",
         "NZ",
         552,
         "AKL",
         "CHC",
         "Airbus A321",
         "2024-01-18T18:45:00Z",
         "2024-01-18T20:05:00Z",
         162,
         539,
         149.99,
         "Delayed"
        ],
        [
         "FL030",
         "JQ",
         652,
         "ROT",
         "WLG",
         "Airbus A320",
         "2024-01-18T20:00:00Z",
         "2024-01-18T21:30:00Z",
         172,
         230,
         89.99,
         "On Time"
        ],
        [
         "FL031",
         "NZ",
         752,
         "WLG",
         "HLZ",
         "Boeing 737",
         "2024-01-19T08:15:00Z",
         "2024-01-19T10:45:00Z",
         153,
         428,
         129.99,
         "On Time"
        ],
        [
         "FL032",
         "VA",
         852,
         "HLZ",
         "AKL",
         "ATR 72",
         "2024-01-19T10:30:00Z",
         "2024-01-19T11:45:00Z",
         69,
         151,
         79.99,
         "On Time"
        ],
        [
         "FL033",
         "NZ",
         103,
         "AKL",
         "DUD",
         "Airbus A320",
         "2024-01-19T12:45:00Z",
         "2024-01-19T14:30:00Z",
         165,
         986,
         199.99,
         "Cancelled"
        ],
        [
         "FL034",
         "JQ",
         203,
         "WLG",
         "DUD",
         "Airbus A320",
         "2024-01-19T15:00:00Z",
         "2024-01-19T16:45:00Z",
         168,
         447,
         139.99,
         "Delayed"
        ],
        [
         "FL035",
         "NZ",
         303,
         "CHC",
         "PMR",
         "Boeing 737",
         "2024-01-19T17:15:00Z",
         "2024-01-19T19:30:00Z",
         176,
         747,
         189.99,
         "On Time"
        ],
        [
         "FL036",
         "VA",
         403,
         "PMR",
         "WLG",
         "ATR 72",
         "2024-01-19T19:30:00Z",
         "2024-01-19T21:00:00Z",
         64,
         522,
         149.99,
         "On Time"
        ],
        [
         "FL037",
         "NZ",
         503,
         "AKL",
         "HLZ",
         "Airbus A321",
         "2024-01-19T21:45:00Z",
         "2024-01-19T23:00:00Z",
         163,
         151,
         69.99,
         "On Time"
        ],
        [
         "FL038",
         "JQ",
         603,
         "ROT",
         "DUD",
         "Airbus A320",
         "2024-01-20T06:00:00Z",
         "2024-01-20T08:15:00Z",
         171,
         795,
         199.99,
         "Delayed"
        ],
        [
         "FL039",
         "NZ",
         703,
         "WLG",
         "ROT",
         "Boeing 737",
         "2024-01-20T08:30:00Z",
         "2024-01-20T10:00:00Z",
         178,
         230,
         89.99,
         "On Time"
        ],
        [
         "FL040",
         "VA",
         803,
         "HLZ",
         "PMR",
         "ATR 72",
         "2024-01-20T10:45:00Z",
         "2024-01-20T12:30:00Z",
         66,
         673,
         169.99,
         "On Time"
        ],
        [
         "FL041",
         "NZ",
         153,
         "AKL",
         "WLG",
         "Airbus A320",
         "2024-01-20T13:00:00Z",
         "2024-01-20T14:15:00Z",
         160,
         484,
         109.99,
         "Delayed"
        ],
        [
         "FL042",
         "JQ",
         253,
         "CHC",
         "HLZ",
         "Airbus A320",
         "2024-01-20T15:15:00Z",
         "2024-01-20T17:30:00Z",
         169,
         577,
         159.99,
         "On Time"
        ],
        [
         "FL043",
         "NZ",
         353,
         "WLG",
         "CHC",
         "Boeing 737",
         "2024-01-20T17:30:00Z",
         "2024-01-20T18:55:00Z",
         154,
         300,
         119.99,
         "On Time"
        ],
        [
         "FL044",
         "VA",
         453,
         "DUD",
         "PMR",
         "ATR 72",
         "2024-01-20T19:45:00Z",
         "2024-01-20T22:00:00Z",
         62,
         880,
         219.99,
         "On Time"
        ],
        [
         "FL045",
         "NZ",
         553,
         "AKL",
         "ROT",
         "Airbus A321",
         "2024-01-20T22:00:00Z",
         "2024-01-20T23:10:00Z",
         165,
         230,
         89.99,
         "Delayed"
        ],
        [
         "FL046",
         "JQ",
         653,
         "HLZ",
         "DUD",
         "Airbus A320",
         "2024-01-21T07:15:00Z",
         "2024-01-21T09:15:00Z",
         170,
         559,
         169.99,
         "On Time"
        ],
        [
         "FL047",
         "NZ",
         753,
         "WLG",
         "PMR",
         "Boeing 737",
         "2024-01-21T09:30:00Z",
         "2024-01-21T11:00:00Z",
         177,
         522,
         149.99,
         "On Time"
        ],
        [
         "FL048",
         "VA",
         853,
         "PMR",
         "HLZ",
         "ATR 72",
         "2024-01-21T11:45:00Z",
         "2024-01-21T13:30:00Z",
         68,
         673,
         169.99,
         "On Time"
        ],
        [
         "FL049",
         "NZ",
         104,
         "AKL",
         "CHC",
         "Airbus A320",
         "2024-01-21T14:00:00Z",
         "2024-01-21T15:20:00Z",
         161,
         539,
         149.99,
         "Cancelled"
        ],
        [
         "FL050",
         "JQ",
         204,
         "WLG",
         "AKL",
         "Airbus A320",
         "2024-01-21T16:30:00Z",
         "2024-01-21T17:45:00Z",
         168,
         484,
         99.99,
         "On Time"
        ]
       ],
       "datasetInfos": [],
       "dbfsResultPath": null,
       "isJsonSchema": true,
       "metadata": {},
       "overflow": false,
       "plotOptions": {
        "customPlotOptions": {},
        "displayType": "table",
        "pivotAggregation": null,
        "pivotColumns": null,
        "xColumns": null,
        "yColumns": null
       },
       "removedWidgets": [],
       "schema": [
        {
         "metadata": "{}",
         "name": "flight_id",
         "type": "\"string\""
        },
        {
         "metadata": "{}",
         "name": "airline_code",
         "type": "\"string\""
        },
        {
         "metadata": "{}",
         "name": "flight_number",
         "type": "\"integer\""
        },
        {
         "metadata": "{}",
         "name": "origin_airport",
         "type": "\"string\""
        },
        {
         "metadata": "{}",
         "name": "destination_airport",
         "type": "\"string\""
        },
        {
         "metadata": "{}",
         "name": "aircraft_type",
         "type": "\"string\""
        },
        {
         "metadata": "{}",
         "name": "departure_time",
         "type": "\"timestamp\""
        },
        {
         "metadata": "{}",
         "name": "arrival_time",
         "type": "\"timestamp\""
        },
        {
         "metadata": "{}",
         "name": "passenger_count",
         "type": "\"integer\""
        },
        {
         "metadata": "{}",
         "name": "flight_distance",
         "type": "\"integer\""
        },
        {
         "metadata": "{}",
         "name": "ticket_price",
         "type": "\"double\""
        },
        {
         "metadata": "{}",
         "name": "flight_status",
         "type": "\"string\""
        }
       ],
       "type": "table"
      }
     },
     "output_type": "display_data"
    }
   ],
   "source": [
    "df_flight_data=spark.read.format(\"csv\").option(\"header\",\"true\").option(\"inferSchema\",\"true\").load(\"/mnt/adls/Flight_Data.csv\")\n",
    "df_flight_data.display()"
   ]
  },
  {
   "cell_type": "markdown",
   "metadata": {
    "application/vnd.databricks.v1+cell": {
     "cellMetadata": {},
     "inputWidgets": {},
     "nuid": "0385bfb2-f736-45ea-a74f-e357c9c9df0b",
     "showTitle": false,
     "tableResultSettingsMap": {},
     "title": ""
    }
   },
   "source": [
    "**2. Display the schema of the DataFrame**\n",
    "\n",
    "To display the schema I am using printSchema() function."
   ]
  },
  {
   "cell_type": "code",
   "execution_count": 0,
   "metadata": {
    "application/vnd.databricks.v1+cell": {
     "cellMetadata": {
      "byteLimit": 2048000,
      "rowLimit": 10000
     },
     "inputWidgets": {},
     "nuid": "e5b1087e-94ee-4cc2-8675-f424029f6242",
     "showTitle": false,
     "tableResultSettingsMap": {},
     "title": ""
    }
   },
   "outputs": [
    {
     "output_type": "stream",
     "name": "stdout",
     "output_type": "stream",
     "text": [
      "root\n |-- flight_id: string (nullable = true)\n |-- airline_code: string (nullable = true)\n |-- flight_number: integer (nullable = true)\n |-- origin_airport: string (nullable = true)\n |-- destination_airport: string (nullable = true)\n |-- aircraft_type: string (nullable = true)\n |-- departure_time: timestamp (nullable = true)\n |-- arrival_time: timestamp (nullable = true)\n |-- passenger_count: integer (nullable = true)\n |-- flight_distance: integer (nullable = true)\n |-- ticket_price: double (nullable = true)\n |-- flight_status: string (nullable = true)\n\n"
     ]
    }
   ],
   "source": [
    "df_flight_data.printSchema()"
   ]
  },
  {
   "cell_type": "markdown",
   "metadata": {
    "application/vnd.databricks.v1+cell": {
     "cellMetadata": {},
     "inputWidgets": {},
     "nuid": "5326d47f-9ab9-47a0-a9f4-a5da82bf44fc",
     "showTitle": false,
     "tableResultSettingsMap": {},
     "title": ""
    }
   },
   "source": [
    "**3. Show the first 10 rows**\n",
    "Using limit(10) and display() function to show first 10 records. We can also use df.show(10) or df.head(10) for this purpose.\n"
   ]
  },
  {
   "cell_type": "code",
   "execution_count": 0,
   "metadata": {
    "application/vnd.databricks.v1+cell": {
     "cellMetadata": {
      "byteLimit": 2048000,
      "rowLimit": 10000
     },
     "inputWidgets": {},
     "nuid": "691ea57d-1cf4-4e89-bc35-5c816f57feec",
     "showTitle": false,
     "tableResultSettingsMap": {},
     "title": ""
    }
   },
   "outputs": [
    {
     "output_type": "display_data",
     "data": {
      "text/html": [
       "<style scoped>\n",
       "  .table-result-container {\n",
       "    max-height: 300px;\n",
       "    overflow: auto;\n",
       "  }\n",
       "  table, th, td {\n",
       "    border: 1px solid black;\n",
       "    border-collapse: collapse;\n",
       "  }\n",
       "  th, td {\n",
       "    padding: 5px;\n",
       "  }\n",
       "  th {\n",
       "    text-align: left;\n",
       "  }\n",
       "</style><div class='table-result-container'><table class='table-result'><thead style='background-color: white'><tr><th>flight_id</th><th>airline_code</th><th>flight_number</th><th>origin_airport</th><th>destination_airport</th><th>aircraft_type</th><th>departure_time</th><th>arrival_time</th><th>passenger_count</th><th>flight_distance</th><th>ticket_price</th><th>flight_status</th></tr></thead><tbody><tr><td>FL001</td><td>NZ</td><td>101</td><td>AKL</td><td>CHC</td><td>Airbus A320</td><td>2024-01-15T08:00:00Z</td><td>2024-01-15T09:20:00Z</td><td>148</td><td>539</td><td>159.99</td><td>On Time</td></tr><tr><td>FL002</td><td>JQ</td><td>201</td><td>WLG</td><td>AKL</td><td>Airbus A320</td><td>2024-01-15T09:15:00Z</td><td>2024-01-15T10:30:00Z</td><td>156</td><td>484</td><td>89.99</td><td>Delayed</td></tr><tr><td>FL003</td><td>NZ</td><td>301</td><td>CHC</td><td>AKL</td><td>Boeing 737</td><td>2024-01-15T10:30:00Z</td><td>2024-01-15T11:50:00Z</td><td>142</td><td>539</td><td>149.99</td><td>On Time</td></tr><tr><td>FL004</td><td>VA</td><td>401</td><td>DUD</td><td>WLG</td><td>ATR 72</td><td>2024-01-15T12:00:00Z</td><td>2024-01-15T13:45:00Z</td><td>68</td><td>447</td><td>119.99</td><td>On Time</td></tr><tr><td>FL005</td><td>NZ</td><td>501</td><td>AKL</td><td>WLG</td><td>Airbus A321</td><td>2024-01-15T14:30:00Z</td><td>2024-01-15T15:45:00Z</td><td>163</td><td>484</td><td>109.99</td><td>Delayed</td></tr><tr><td>FL006</td><td>JQ</td><td>601</td><td>ROT</td><td>AKL</td><td>Airbus A320</td><td>2024-01-15T16:00:00Z</td><td>2024-01-15T17:10:00Z</td><td>134</td><td>230</td><td>79.99</td><td>On Time</td></tr><tr><td>FL007</td><td>NZ</td><td>701</td><td>WLG</td><td>CHC</td><td>Boeing 737</td><td>2024-01-15T18:45:00Z</td><td>2024-01-15T20:10:00Z</td><td>156</td><td>300</td><td>129.99</td><td>On Time</td></tr><tr><td>FL008</td><td>VA</td><td>801</td><td>HLZ</td><td>WLG</td><td>ATR 72</td><td>2024-01-15T20:00:00Z</td><td>2024-01-15T21:30:00Z</td><td>58</td><td>428</td><td>99.99</td><td>On Time</td></tr><tr><td>FL009</td><td>NZ</td><td>151</td><td>AKL</td><td>DUD</td><td>Airbus A320</td><td>2024-01-16T07:30:00Z</td><td>2024-01-16T09:15:00Z</td><td>159</td><td>986</td><td>199.99</td><td>Delayed</td></tr><tr><td>FL010</td><td>JQ</td><td>251</td><td>WLG</td><td>CHC</td><td>Airbus A320</td><td>2024-01-16T09:00:00Z</td><td>2024-01-16T10:25:00Z</td><td>168</td><td>300</td><td>89.99</td><td>On Time</td></tr></tbody></table></div>"
      ]
     },
     "metadata": {
      "application/vnd.databricks.v1+output": {
       "addedWidgets": {},
       "aggData": [],
       "aggError": "",
       "aggOverflow": false,
       "aggSchema": [],
       "aggSeriesLimitReached": false,
       "aggType": "",
       "arguments": {},
       "columnCustomDisplayInfos": {},
       "data": [
        [
         "FL001",
         "NZ",
         101,
         "AKL",
         "CHC",
         "Airbus A320",
         "2024-01-15T08:00:00Z",
         "2024-01-15T09:20:00Z",
         148,
         539,
         159.99,
         "On Time"
        ],
        [
         "FL002",
         "JQ",
         201,
         "WLG",
         "AKL",
         "Airbus A320",
         "2024-01-15T09:15:00Z",
         "2024-01-15T10:30:00Z",
         156,
         484,
         89.99,
         "Delayed"
        ],
        [
         "FL003",
         "NZ",
         301,
         "CHC",
         "AKL",
         "Boeing 737",
         "2024-01-15T10:30:00Z",
         "2024-01-15T11:50:00Z",
         142,
         539,
         149.99,
         "On Time"
        ],
        [
         "FL004",
         "VA",
         401,
         "DUD",
         "WLG",
         "ATR 72",
         "2024-01-15T12:00:00Z",
         "2024-01-15T13:45:00Z",
         68,
         447,
         119.99,
         "On Time"
        ],
        [
         "FL005",
         "NZ",
         501,
         "AKL",
         "WLG",
         "Airbus A321",
         "2024-01-15T14:30:00Z",
         "2024-01-15T15:45:00Z",
         163,
         484,
         109.99,
         "Delayed"
        ],
        [
         "FL006",
         "JQ",
         601,
         "ROT",
         "AKL",
         "Airbus A320",
         "2024-01-15T16:00:00Z",
         "2024-01-15T17:10:00Z",
         134,
         230,
         79.99,
         "On Time"
        ],
        [
         "FL007",
         "NZ",
         701,
         "WLG",
         "CHC",
         "Boeing 737",
         "2024-01-15T18:45:00Z",
         "2024-01-15T20:10:00Z",
         156,
         300,
         129.99,
         "On Time"
        ],
        [
         "FL008",
         "VA",
         801,
         "HLZ",
         "WLG",
         "ATR 72",
         "2024-01-15T20:00:00Z",
         "2024-01-15T21:30:00Z",
         58,
         428,
         99.99,
         "On Time"
        ],
        [
         "FL009",
         "NZ",
         151,
         "AKL",
         "DUD",
         "Airbus A320",
         "2024-01-16T07:30:00Z",
         "2024-01-16T09:15:00Z",
         159,
         986,
         199.99,
         "Delayed"
        ],
        [
         "FL010",
         "JQ",
         251,
         "WLG",
         "CHC",
         "Airbus A320",
         "2024-01-16T09:00:00Z",
         "2024-01-16T10:25:00Z",
         168,
         300,
         89.99,
         "On Time"
        ]
       ],
       "datasetInfos": [],
       "dbfsResultPath": null,
       "isJsonSchema": true,
       "metadata": {},
       "overflow": false,
       "plotOptions": {
        "customPlotOptions": {},
        "displayType": "table",
        "pivotAggregation": null,
        "pivotColumns": null,
        "xColumns": null,
        "yColumns": null
       },
       "removedWidgets": [],
       "schema": [
        {
         "metadata": "{}",
         "name": "flight_id",
         "type": "\"string\""
        },
        {
         "metadata": "{}",
         "name": "airline_code",
         "type": "\"string\""
        },
        {
         "metadata": "{}",
         "name": "flight_number",
         "type": "\"integer\""
        },
        {
         "metadata": "{}",
         "name": "origin_airport",
         "type": "\"string\""
        },
        {
         "metadata": "{}",
         "name": "destination_airport",
         "type": "\"string\""
        },
        {
         "metadata": "{}",
         "name": "aircraft_type",
         "type": "\"string\""
        },
        {
         "metadata": "{}",
         "name": "departure_time",
         "type": "\"timestamp\""
        },
        {
         "metadata": "{}",
         "name": "arrival_time",
         "type": "\"timestamp\""
        },
        {
         "metadata": "{}",
         "name": "passenger_count",
         "type": "\"integer\""
        },
        {
         "metadata": "{}",
         "name": "flight_distance",
         "type": "\"integer\""
        },
        {
         "metadata": "{}",
         "name": "ticket_price",
         "type": "\"double\""
        },
        {
         "metadata": "{}",
         "name": "flight_status",
         "type": "\"string\""
        }
       ],
       "type": "table"
      }
     },
     "output_type": "display_data"
    }
   ],
   "source": [
    "df_flight_data.limit(10).display()"
   ]
  },
  {
   "cell_type": "markdown",
   "metadata": {
    "application/vnd.databricks.v1+cell": {
     "cellMetadata": {},
     "inputWidgets": {},
     "nuid": "bff5e5a2-8986-45ac-9727-6593a8d6e556",
     "showTitle": false,
     "tableResultSettingsMap": {},
     "title": ""
    }
   },
   "source": [
    "**4. Count the total number of records**\n",
    "\n",
    "I am using count() to count the number of records in the dataframe and assigning it to a variable."
   ]
  },
  {
   "cell_type": "code",
   "execution_count": 0,
   "metadata": {
    "application/vnd.databricks.v1+cell": {
     "cellMetadata": {
      "byteLimit": 2048000,
      "rowLimit": 10000
     },
     "inputWidgets": {},
     "nuid": "b6e084e5-3134-46d3-ae7e-812e465fef98",
     "showTitle": false,
     "tableResultSettingsMap": {},
     "title": ""
    }
   },
   "outputs": [
    {
     "output_type": "display_data",
     "data": {
      "text/plain": [
       "50"
      ]
     },
     "metadata": {},
     "output_type": "display_data"
    }
   ],
   "source": [
    "df_count=df_flight_data.count()\n",
    "display(df_count)"
   ]
  },
  {
   "cell_type": "markdown",
   "metadata": {
    "application/vnd.databricks.v1+cell": {
     "cellMetadata": {},
     "inputWidgets": {},
     "nuid": "6e1ee515-fbf4-499e-86cd-f0d27e2f82fd",
     "showTitle": false,
     "tableResultSettingsMap": {},
     "title": ""
    }
   },
   "source": [
    "**5. Filter out any records where passenger_count is less than or equal to 0**\n",
    "\n",
    "Using filter(condition) I am filtering records with passenger_count less than or equal to 0. There are no such records, so the output doesnt show any values."
   ]
  },
  {
   "cell_type": "code",
   "execution_count": 0,
   "metadata": {
    "application/vnd.databricks.v1+cell": {
     "cellMetadata": {
      "byteLimit": 2048000,
      "rowLimit": 10000
     },
     "inputWidgets": {},
     "nuid": "94744f2b-99fb-4808-bcf2-a255daa5b438",
     "showTitle": false,
     "tableResultSettingsMap": {},
     "title": ""
    }
   },
   "outputs": [
    {
     "output_type": "display_data",
     "data": {
      "text/html": [
       "<style scoped>\n",
       "  .table-result-container {\n",
       "    max-height: 300px;\n",
       "    overflow: auto;\n",
       "  }\n",
       "  table, th, td {\n",
       "    border: 1px solid black;\n",
       "    border-collapse: collapse;\n",
       "  }\n",
       "  th, td {\n",
       "    padding: 5px;\n",
       "  }\n",
       "  th {\n",
       "    text-align: left;\n",
       "  }\n",
       "</style><div class='table-result-container'><table class='table-result'><thead style='background-color: white'><tr><th>flight_id</th><th>airline_code</th><th>flight_number</th><th>origin_airport</th><th>destination_airport</th><th>aircraft_type</th><th>departure_time</th><th>arrival_time</th><th>passenger_count</th><th>flight_distance</th><th>ticket_price</th><th>flight_status</th></tr></thead><tbody></tbody></table></div>"
      ]
     },
     "metadata": {
      "application/vnd.databricks.v1+output": {
       "addedWidgets": {},
       "aggData": [],
       "aggError": "",
       "aggOverflow": false,
       "aggSchema": [],
       "aggSeriesLimitReached": false,
       "aggType": "",
       "arguments": {},
       "columnCustomDisplayInfos": {},
       "data": [],
       "datasetInfos": [],
       "dbfsResultPath": null,
       "isJsonSchema": true,
       "metadata": {},
       "overflow": false,
       "plotOptions": {
        "customPlotOptions": {},
        "displayType": "table",
        "pivotAggregation": null,
        "pivotColumns": null,
        "xColumns": null,
        "yColumns": null
       },
       "removedWidgets": [],
       "schema": [
        {
         "metadata": "{}",
         "name": "flight_id",
         "type": "\"string\""
        },
        {
         "metadata": "{}",
         "name": "airline_code",
         "type": "\"string\""
        },
        {
         "metadata": "{}",
         "name": "flight_number",
         "type": "\"integer\""
        },
        {
         "metadata": "{}",
         "name": "origin_airport",
         "type": "\"string\""
        },
        {
         "metadata": "{}",
         "name": "destination_airport",
         "type": "\"string\""
        },
        {
         "metadata": "{}",
         "name": "aircraft_type",
         "type": "\"string\""
        },
        {
         "metadata": "{}",
         "name": "departure_time",
         "type": "\"timestamp\""
        },
        {
         "metadata": "{}",
         "name": "arrival_time",
         "type": "\"timestamp\""
        },
        {
         "metadata": "{}",
         "name": "passenger_count",
         "type": "\"integer\""
        },
        {
         "metadata": "{}",
         "name": "flight_distance",
         "type": "\"integer\""
        },
        {
         "metadata": "{}",
         "name": "ticket_price",
         "type": "\"double\""
        },
        {
         "metadata": "{}",
         "name": "flight_status",
         "type": "\"string\""
        }
       ],
       "type": "table"
      }
     },
     "output_type": "display_data"
    }
   ],
   "source": [
    "df_filter=df_flight_data.filter(df_flight_data['passenger_count'] <= 0)\n",
    "df_filter.display()"
   ]
  },
  {
   "cell_type": "markdown",
   "metadata": {
    "application/vnd.databricks.v1+cell": {
     "cellMetadata": {},
     "inputWidgets": {},
     "nuid": "cdeda328-eb9d-4017-a7e8-d75108752013",
     "showTitle": false,
     "tableResultSettingsMap": {},
     "title": ""
    }
   },
   "source": [
    "**6. Add a new column flight_duration_hours that calculates the flight duration in hours.**\n",
    "\n",
    "To calculate the flight duration I am subracting the arrival_time and departure_time which will give the timestamp in seconds. So I convert this to hours by diving this by 60*60 (ie 3600) and round the values to 2 decimal places. Created a new dataframe df_with_duration with the new column duration_hours."
   ]
  },
  {
   "cell_type": "code",
   "execution_count": 0,
   "metadata": {
    "application/vnd.databricks.v1+cell": {
     "cellMetadata": {
      "byteLimit": 2048000,
      "rowLimit": 10000
     },
     "inputWidgets": {},
     "nuid": "705a7100-9019-4721-8e79-3bf903aa3113",
     "showTitle": false,
     "tableResultSettingsMap": {},
     "title": ""
    }
   },
   "outputs": [],
   "source": [
    "from pyspark.sql.functions import col, unix_timestamp, round\n",
    "# Convert string timestamps to timestamp type\n",
    "df_with_duration = df_flight_data.withColumn(\"duration_hours\",\n",
    "                                 round((unix_timestamp(\"arrival_time\") - unix_timestamp(\"departure_time\")) / 3600.0, 2))\n"
   ]
  },
  {
   "cell_type": "markdown",
   "metadata": {
    "application/vnd.databricks.v1+cell": {
     "cellMetadata": {},
     "inputWidgets": {},
     "nuid": "6834f0c4-14dd-4c85-9c85-7779099d356f",
     "showTitle": false,
     "tableResultSettingsMap": {},
     "title": ""
    }
   },
   "source": [
    "Display df_with_duration"
   ]
  },
  {
   "cell_type": "code",
   "execution_count": 0,
   "metadata": {
    "application/vnd.databricks.v1+cell": {
     "cellMetadata": {
      "byteLimit": 2048000,
      "rowLimit": 10000
     },
     "inputWidgets": {},
     "nuid": "246c134b-16bd-4147-8acb-0cb9670e0c9e",
     "showTitle": false,
     "tableResultSettingsMap": {},
     "title": ""
    }
   },
   "outputs": [
    {
     "output_type": "display_data",
     "data": {
      "text/html": [
       "<style scoped>\n",
       "  .table-result-container {\n",
       "    max-height: 300px;\n",
       "    overflow: auto;\n",
       "  }\n",
       "  table, th, td {\n",
       "    border: 1px solid black;\n",
       "    border-collapse: collapse;\n",
       "  }\n",
       "  th, td {\n",
       "    padding: 5px;\n",
       "  }\n",
       "  th {\n",
       "    text-align: left;\n",
       "  }\n",
       "</style><div class='table-result-container'><table class='table-result'><thead style='background-color: white'><tr><th>flight_id</th><th>airline_code</th><th>flight_number</th><th>origin_airport</th><th>destination_airport</th><th>aircraft_type</th><th>departure_time</th><th>arrival_time</th><th>passenger_count</th><th>flight_distance</th><th>ticket_price</th><th>flight_status</th><th>duration_hours</th></tr></thead><tbody><tr><td>FL001</td><td>NZ</td><td>101</td><td>AKL</td><td>CHC</td><td>Airbus A320</td><td>2024-01-15T08:00:00Z</td><td>2024-01-15T09:20:00Z</td><td>148</td><td>539</td><td>159.99</td><td>On Time</td><td>1.33</td></tr><tr><td>FL002</td><td>JQ</td><td>201</td><td>WLG</td><td>AKL</td><td>Airbus A320</td><td>2024-01-15T09:15:00Z</td><td>2024-01-15T10:30:00Z</td><td>156</td><td>484</td><td>89.99</td><td>Delayed</td><td>1.25</td></tr><tr><td>FL003</td><td>NZ</td><td>301</td><td>CHC</td><td>AKL</td><td>Boeing 737</td><td>2024-01-15T10:30:00Z</td><td>2024-01-15T11:50:00Z</td><td>142</td><td>539</td><td>149.99</td><td>On Time</td><td>1.33</td></tr><tr><td>FL004</td><td>VA</td><td>401</td><td>DUD</td><td>WLG</td><td>ATR 72</td><td>2024-01-15T12:00:00Z</td><td>2024-01-15T13:45:00Z</td><td>68</td><td>447</td><td>119.99</td><td>On Time</td><td>1.75</td></tr><tr><td>FL005</td><td>NZ</td><td>501</td><td>AKL</td><td>WLG</td><td>Airbus A321</td><td>2024-01-15T14:30:00Z</td><td>2024-01-15T15:45:00Z</td><td>163</td><td>484</td><td>109.99</td><td>Delayed</td><td>1.25</td></tr><tr><td>FL006</td><td>JQ</td><td>601</td><td>ROT</td><td>AKL</td><td>Airbus A320</td><td>2024-01-15T16:00:00Z</td><td>2024-01-15T17:10:00Z</td><td>134</td><td>230</td><td>79.99</td><td>On Time</td><td>1.17</td></tr><tr><td>FL007</td><td>NZ</td><td>701</td><td>WLG</td><td>CHC</td><td>Boeing 737</td><td>2024-01-15T18:45:00Z</td><td>2024-01-15T20:10:00Z</td><td>156</td><td>300</td><td>129.99</td><td>On Time</td><td>1.42</td></tr><tr><td>FL008</td><td>VA</td><td>801</td><td>HLZ</td><td>WLG</td><td>ATR 72</td><td>2024-01-15T20:00:00Z</td><td>2024-01-15T21:30:00Z</td><td>58</td><td>428</td><td>99.99</td><td>On Time</td><td>1.5</td></tr><tr><td>FL009</td><td>NZ</td><td>151</td><td>AKL</td><td>DUD</td><td>Airbus A320</td><td>2024-01-16T07:30:00Z</td><td>2024-01-16T09:15:00Z</td><td>159</td><td>986</td><td>199.99</td><td>Delayed</td><td>1.75</td></tr><tr><td>FL010</td><td>JQ</td><td>251</td><td>WLG</td><td>CHC</td><td>Airbus A320</td><td>2024-01-16T09:00:00Z</td><td>2024-01-16T10:25:00Z</td><td>168</td><td>300</td><td>89.99</td><td>On Time</td><td>1.42</td></tr><tr><td>FL011</td><td>NZ</td><td>351</td><td>CHC</td><td>WLG</td><td>Boeing 737</td><td>2024-01-16T11:15:00Z</td><td>2024-01-16T12:40:00Z</td><td>175</td><td>300</td><td>119.99</td><td>On Time</td><td>1.42</td></tr><tr><td>FL012</td><td>VA</td><td>451</td><td>PMR</td><td>AKL</td><td>ATR 72</td><td>2024-01-16T13:30:00Z</td><td>2024-01-16T15:15:00Z</td><td>61</td><td>522</td><td>139.99</td><td>On Time</td><td>1.75</td></tr><tr><td>FL013</td><td>NZ</td><td>551</td><td>AKL</td><td>HLZ</td><td>Airbus A321</td><td>2024-01-16T15:45:00Z</td><td>2024-01-16T17:00:00Z</td><td>161</td><td>151</td><td>69.99</td><td>Cancelled</td><td>1.25</td></tr><tr><td>FL014</td><td>JQ</td><td>651</td><td>ROT</td><td>CHC</td><td>Airbus A320</td><td>2024-01-16T17:00:00Z</td><td>2024-01-16T19:20:00Z</td><td>173</td><td>725</td><td>169.99</td><td>Delayed</td><td>2.33</td></tr><tr><td>FL015</td><td>NZ</td><td>751</td><td>WLG</td><td>DUD</td><td>Boeing 737</td><td>2024-01-16T19:30:00Z</td><td>2024-01-16T21:15:00Z</td><td>152</td><td>447</td><td>139.99</td><td>On Time</td><td>1.75</td></tr><tr><td>FL016</td><td>VA</td><td>851</td><td>HLZ</td><td>CHC</td><td>ATR 72</td><td>2024-01-17T06:00:00Z</td><td>2024-01-17T08:15:00Z</td><td>65</td><td>577</td><td>149.99</td><td>On Time</td><td>2.25</td></tr><tr><td>FL017</td><td>NZ</td><td>102</td><td>AKL</td><td>PMR</td><td>Airbus A320</td><td>2024-01-17T08:15:00Z</td><td>2024-01-17T09:45:00Z</td><td>166</td><td>522</td><td>159.99</td><td>On Time</td><td>1.5</td></tr><tr><td>FL018</td><td>JQ</td><td>202</td><td>WLG</td><td>ROT</td><td>Airbus A320</td><td>2024-01-17T10:30:00Z</td><td>2024-01-17T12:00:00Z</td><td>169</td><td>230</td><td>79.99</td><td>Delayed</td><td>1.5</td></tr><tr><td>FL019</td><td>NZ</td><td>302</td><td>CHC</td><td>DUD</td><td>Boeing 737</td><td>2024-01-17T12:45:00Z</td><td>2024-01-17T14:05:00Z</td><td>177</td><td>214</td><td>99.99</td><td>On Time</td><td>1.33</td></tr><tr><td>FL020</td><td>VA</td><td>402</td><td>DUD</td><td>AKL</td><td>ATR 72</td><td>2024-01-17T14:00:00Z</td><td>2024-01-17T16:45:00Z</td><td>71</td><td>986</td><td>229.99</td><td>On Time</td><td>2.75</td></tr><tr><td>FL021</td><td>NZ</td><td>502</td><td>AKL</td><td>ROT</td><td>Airbus A321</td><td>2024-01-17T16:15:00Z</td><td>2024-01-17T17:25:00Z</td><td>158</td><td>230</td><td>89.99</td><td>On Time</td><td>1.17</td></tr><tr><td>FL022</td><td>JQ</td><td>602</td><td>HLZ</td><td>WLG</td><td>Airbus A320</td><td>2024-01-17T18:30:00Z</td><td>2024-01-17T20:00:00Z</td><td>170</td><td>428</td><td>119.99</td><td>Delayed</td><td>1.5</td></tr><tr><td>FL023</td><td>NZ</td><td>702</td><td>WLG</td><td>AKL</td><td>Boeing 737</td><td>2024-01-17T20:45:00Z</td><td>2024-01-17T22:00:00Z</td><td>149</td><td>484</td><td>119.99</td><td>On Time</td><td>1.25</td></tr><tr><td>FL024</td><td>VA</td><td>802</td><td>PMR</td><td>CHC</td><td>ATR 72</td><td>2024-01-18T07:00:00Z</td><td>2024-01-18T09:45:00Z</td><td>67</td><td>747</td><td>179.99</td><td>On Time</td><td>2.75</td></tr><tr><td>FL025</td><td>NZ</td><td>152</td><td>AKL</td><td>WLG</td><td>Airbus A320</td><td>2024-01-18T09:30:00Z</td><td>2024-01-18T10:45:00Z</td><td>164</td><td>484</td><td>99.99</td><td>Delayed</td><td>1.25</td></tr><tr><td>FL026</td><td>JQ</td><td>252</td><td>CHC</td><td>AKL</td><td>Airbus A320</td><td>2024-01-18T11:45:00Z</td><td>2024-01-18T13:05:00Z</td><td>167</td><td>539</td><td>159.99</td><td>On Time</td><td>1.33</td></tr><tr><td>FL027</td><td>NZ</td><td>352</td><td>WLG</td><td>PMR</td><td>Boeing 737</td><td>2024-01-18T14:00:00Z</td><td>2024-01-18T15:30:00Z</td><td>179</td><td>522</td><td>149.99</td><td>On Time</td><td>1.5</td></tr><tr><td>FL028</td><td>VA</td><td>452</td><td>DUD</td><td>HLZ</td><td>ATR 72</td><td>2024-01-18T16:30:00Z</td><td>2024-01-18T18:30:00Z</td><td>63</td><td>559</td><td>159.99</td><td>On Time</td><td>2.0</td></tr><tr><td>FL029</td><td>NZ</td><td>552</td><td>AKL</td><td>CHC</td><td>Airbus A321</td><td>2024-01-18T18:45:00Z</td><td>2024-01-18T20:05:00Z</td><td>162</td><td>539</td><td>149.99</td><td>Delayed</td><td>1.33</td></tr><tr><td>FL030</td><td>JQ</td><td>652</td><td>ROT</td><td>WLG</td><td>Airbus A320</td><td>2024-01-18T20:00:00Z</td><td>2024-01-18T21:30:00Z</td><td>172</td><td>230</td><td>89.99</td><td>On Time</td><td>1.5</td></tr><tr><td>FL031</td><td>NZ</td><td>752</td><td>WLG</td><td>HLZ</td><td>Boeing 737</td><td>2024-01-19T08:15:00Z</td><td>2024-01-19T10:45:00Z</td><td>153</td><td>428</td><td>129.99</td><td>On Time</td><td>2.5</td></tr><tr><td>FL032</td><td>VA</td><td>852</td><td>HLZ</td><td>AKL</td><td>ATR 72</td><td>2024-01-19T10:30:00Z</td><td>2024-01-19T11:45:00Z</td><td>69</td><td>151</td><td>79.99</td><td>On Time</td><td>1.25</td></tr><tr><td>FL033</td><td>NZ</td><td>103</td><td>AKL</td><td>DUD</td><td>Airbus A320</td><td>2024-01-19T12:45:00Z</td><td>2024-01-19T14:30:00Z</td><td>165</td><td>986</td><td>199.99</td><td>Cancelled</td><td>1.75</td></tr><tr><td>FL034</td><td>JQ</td><td>203</td><td>WLG</td><td>DUD</td><td>Airbus A320</td><td>2024-01-19T15:00:00Z</td><td>2024-01-19T16:45:00Z</td><td>168</td><td>447</td><td>139.99</td><td>Delayed</td><td>1.75</td></tr><tr><td>FL035</td><td>NZ</td><td>303</td><td>CHC</td><td>PMR</td><td>Boeing 737</td><td>2024-01-19T17:15:00Z</td><td>2024-01-19T19:30:00Z</td><td>176</td><td>747</td><td>189.99</td><td>On Time</td><td>2.25</td></tr><tr><td>FL036</td><td>VA</td><td>403</td><td>PMR</td><td>WLG</td><td>ATR 72</td><td>2024-01-19T19:30:00Z</td><td>2024-01-19T21:00:00Z</td><td>64</td><td>522</td><td>149.99</td><td>On Time</td><td>1.5</td></tr><tr><td>FL037</td><td>NZ</td><td>503</td><td>AKL</td><td>HLZ</td><td>Airbus A321</td><td>2024-01-19T21:45:00Z</td><td>2024-01-19T23:00:00Z</td><td>163</td><td>151</td><td>69.99</td><td>On Time</td><td>1.25</td></tr><tr><td>FL038</td><td>JQ</td><td>603</td><td>ROT</td><td>DUD</td><td>Airbus A320</td><td>2024-01-20T06:00:00Z</td><td>2024-01-20T08:15:00Z</td><td>171</td><td>795</td><td>199.99</td><td>Delayed</td><td>2.25</td></tr><tr><td>FL039</td><td>NZ</td><td>703</td><td>WLG</td><td>ROT</td><td>Boeing 737</td><td>2024-01-20T08:30:00Z</td><td>2024-01-20T10:00:00Z</td><td>178</td><td>230</td><td>89.99</td><td>On Time</td><td>1.5</td></tr><tr><td>FL040</td><td>VA</td><td>803</td><td>HLZ</td><td>PMR</td><td>ATR 72</td><td>2024-01-20T10:45:00Z</td><td>2024-01-20T12:30:00Z</td><td>66</td><td>673</td><td>169.99</td><td>On Time</td><td>1.75</td></tr><tr><td>FL041</td><td>NZ</td><td>153</td><td>AKL</td><td>WLG</td><td>Airbus A320</td><td>2024-01-20T13:00:00Z</td><td>2024-01-20T14:15:00Z</td><td>160</td><td>484</td><td>109.99</td><td>Delayed</td><td>1.25</td></tr><tr><td>FL042</td><td>JQ</td><td>253</td><td>CHC</td><td>HLZ</td><td>Airbus A320</td><td>2024-01-20T15:15:00Z</td><td>2024-01-20T17:30:00Z</td><td>169</td><td>577</td><td>159.99</td><td>On Time</td><td>2.25</td></tr><tr><td>FL043</td><td>NZ</td><td>353</td><td>WLG</td><td>CHC</td><td>Boeing 737</td><td>2024-01-20T17:30:00Z</td><td>2024-01-20T18:55:00Z</td><td>154</td><td>300</td><td>119.99</td><td>On Time</td><td>1.42</td></tr><tr><td>FL044</td><td>VA</td><td>453</td><td>DUD</td><td>PMR</td><td>ATR 72</td><td>2024-01-20T19:45:00Z</td><td>2024-01-20T22:00:00Z</td><td>62</td><td>880</td><td>219.99</td><td>On Time</td><td>2.25</td></tr><tr><td>FL045</td><td>NZ</td><td>553</td><td>AKL</td><td>ROT</td><td>Airbus A321</td><td>2024-01-20T22:00:00Z</td><td>2024-01-20T23:10:00Z</td><td>165</td><td>230</td><td>89.99</td><td>Delayed</td><td>1.17</td></tr><tr><td>FL046</td><td>JQ</td><td>653</td><td>HLZ</td><td>DUD</td><td>Airbus A320</td><td>2024-01-21T07:15:00Z</td><td>2024-01-21T09:15:00Z</td><td>170</td><td>559</td><td>169.99</td><td>On Time</td><td>2.0</td></tr><tr><td>FL047</td><td>NZ</td><td>753</td><td>WLG</td><td>PMR</td><td>Boeing 737</td><td>2024-01-21T09:30:00Z</td><td>2024-01-21T11:00:00Z</td><td>177</td><td>522</td><td>149.99</td><td>On Time</td><td>1.5</td></tr><tr><td>FL048</td><td>VA</td><td>853</td><td>PMR</td><td>HLZ</td><td>ATR 72</td><td>2024-01-21T11:45:00Z</td><td>2024-01-21T13:30:00Z</td><td>68</td><td>673</td><td>169.99</td><td>On Time</td><td>1.75</td></tr><tr><td>FL049</td><td>NZ</td><td>104</td><td>AKL</td><td>CHC</td><td>Airbus A320</td><td>2024-01-21T14:00:00Z</td><td>2024-01-21T15:20:00Z</td><td>161</td><td>539</td><td>149.99</td><td>Cancelled</td><td>1.33</td></tr><tr><td>FL050</td><td>JQ</td><td>204</td><td>WLG</td><td>AKL</td><td>Airbus A320</td><td>2024-01-21T16:30:00Z</td><td>2024-01-21T17:45:00Z</td><td>168</td><td>484</td><td>99.99</td><td>On Time</td><td>1.25</td></tr></tbody></table></div>"
      ]
     },
     "metadata": {
      "application/vnd.databricks.v1+output": {
       "addedWidgets": {},
       "aggData": [],
       "aggError": "",
       "aggOverflow": false,
       "aggSchema": [],
       "aggSeriesLimitReached": false,
       "aggType": "",
       "arguments": {},
       "columnCustomDisplayInfos": {},
       "data": [
        [
         "FL001",
         "NZ",
         101,
         "AKL",
         "CHC",
         "Airbus A320",
         "2024-01-15T08:00:00Z",
         "2024-01-15T09:20:00Z",
         148,
         539,
         159.99,
         "On Time",
         1.33
        ],
        [
         "FL002",
         "JQ",
         201,
         "WLG",
         "AKL",
         "Airbus A320",
         "2024-01-15T09:15:00Z",
         "2024-01-15T10:30:00Z",
         156,
         484,
         89.99,
         "Delayed",
         1.25
        ],
        [
         "FL003",
         "NZ",
         301,
         "CHC",
         "AKL",
         "Boeing 737",
         "2024-01-15T10:30:00Z",
         "2024-01-15T11:50:00Z",
         142,
         539,
         149.99,
         "On Time",
         1.33
        ],
        [
         "FL004",
         "VA",
         401,
         "DUD",
         "WLG",
         "ATR 72",
         "2024-01-15T12:00:00Z",
         "2024-01-15T13:45:00Z",
         68,
         447,
         119.99,
         "On Time",
         1.75
        ],
        [
         "FL005",
         "NZ",
         501,
         "AKL",
         "WLG",
         "Airbus A321",
         "2024-01-15T14:30:00Z",
         "2024-01-15T15:45:00Z",
         163,
         484,
         109.99,
         "Delayed",
         1.25
        ],
        [
         "FL006",
         "JQ",
         601,
         "ROT",
         "AKL",
         "Airbus A320",
         "2024-01-15T16:00:00Z",
         "2024-01-15T17:10:00Z",
         134,
         230,
         79.99,
         "On Time",
         1.17
        ],
        [
         "FL007",
         "NZ",
         701,
         "WLG",
         "CHC",
         "Boeing 737",
         "2024-01-15T18:45:00Z",
         "2024-01-15T20:10:00Z",
         156,
         300,
         129.99,
         "On Time",
         1.42
        ],
        [
         "FL008",
         "VA",
         801,
         "HLZ",
         "WLG",
         "ATR 72",
         "2024-01-15T20:00:00Z",
         "2024-01-15T21:30:00Z",
         58,
         428,
         99.99,
         "On Time",
         1.5
        ],
        [
         "FL009",
         "NZ",
         151,
         "AKL",
         "DUD",
         "Airbus A320",
         "2024-01-16T07:30:00Z",
         "2024-01-16T09:15:00Z",
         159,
         986,
         199.99,
         "Delayed",
         1.75
        ],
        [
         "FL010",
         "JQ",
         251,
         "WLG",
         "CHC",
         "Airbus A320",
         "2024-01-16T09:00:00Z",
         "2024-01-16T10:25:00Z",
         168,
         300,
         89.99,
         "On Time",
         1.42
        ],
        [
         "FL011",
         "NZ",
         351,
         "CHC",
         "WLG",
         "Boeing 737",
         "2024-01-16T11:15:00Z",
         "2024-01-16T12:40:00Z",
         175,
         300,
         119.99,
         "On Time",
         1.42
        ],
        [
         "FL012",
         "VA",
         451,
         "PMR",
         "AKL",
         "ATR 72",
         "2024-01-16T13:30:00Z",
         "2024-01-16T15:15:00Z",
         61,
         522,
         139.99,
         "On Time",
         1.75
        ],
        [
         "FL013",
         "NZ",
         551,
         "AKL",
         "HLZ",
         "Airbus A321",
         "2024-01-16T15:45:00Z",
         "2024-01-16T17:00:00Z",
         161,
         151,
         69.99,
         "Cancelled",
         1.25
        ],
        [
         "FL014",
         "JQ",
         651,
         "ROT",
         "CHC",
         "Airbus A320",
         "2024-01-16T17:00:00Z",
         "2024-01-16T19:20:00Z",
         173,
         725,
         169.99,
         "Delayed",
         2.33
        ],
        [
         "FL015",
         "NZ",
         751,
         "WLG",
         "DUD",
         "Boeing 737",
         "2024-01-16T19:30:00Z",
         "2024-01-16T21:15:00Z",
         152,
         447,
         139.99,
         "On Time",
         1.75
        ],
        [
         "FL016",
         "VA",
         851,
         "HLZ",
         "CHC",
         "ATR 72",
         "2024-01-17T06:00:00Z",
         "2024-01-17T08:15:00Z",
         65,
         577,
         149.99,
         "On Time",
         2.25
        ],
        [
         "FL017",
         "NZ",
         102,
         "AKL",
         "PMR",
         "Airbus A320",
         "2024-01-17T08:15:00Z",
         "2024-01-17T09:45:00Z",
         166,
         522,
         159.99,
         "On Time",
         1.5
        ],
        [
         "FL018",
         "JQ",
         202,
         "WLG",
         "ROT",
         "Airbus A320",
         "2024-01-17T10:30:00Z",
         "2024-01-17T12:00:00Z",
         169,
         230,
         79.99,
         "Delayed",
         1.5
        ],
        [
         "FL019",
         "NZ",
         302,
         "CHC",
         "DUD",
         "Boeing 737",
         "2024-01-17T12:45:00Z",
         "2024-01-17T14:05:00Z",
         177,
         214,
         99.99,
         "On Time",
         1.33
        ],
        [
         "FL020",
         "VA",
         402,
         "DUD",
         "AKL",
         "ATR 72",
         "2024-01-17T14:00:00Z",
         "2024-01-17T16:45:00Z",
         71,
         986,
         229.99,
         "On Time",
         2.75
        ],
        [
         "FL021",
         "NZ",
         502,
         "AKL",
         "ROT",
         "Airbus A321",
         "2024-01-17T16:15:00Z",
         "2024-01-17T17:25:00Z",
         158,
         230,
         89.99,
         "On Time",
         1.17
        ],
        [
         "FL022",
         "JQ",
         602,
         "HLZ",
         "WLG",
         "Airbus A320",
         "2024-01-17T18:30:00Z",
         "2024-01-17T20:00:00Z",
         170,
         428,
         119.99,
         "Delayed",
         1.5
        ],
        [
         "FL023",
         "NZ",
         702,
         "WLG",
         "AKL",
         "Boeing 737",
         "2024-01-17T20:45:00Z",
         "2024-01-17T22:00:00Z",
         149,
         484,
         119.99,
         "On Time",
         1.25
        ],
        [
         "FL024",
         "VA",
         802,
         "PMR",
         "CHC",
         "ATR 72",
         "2024-01-18T07:00:00Z",
         "2024-01-18T09:45:00Z",
         67,
         747,
         179.99,
         "On Time",
         2.75
        ],
        [
         "FL025",
         "NZ",
         152,
         "AKL",
         "WLG",
         "Airbus A320",
         "2024-01-18T09:30:00Z",
         "2024-01-18T10:45:00Z",
         164,
         484,
         99.99,
         "Delayed",
         1.25
        ],
        [
         "FL026",
         "JQ",
         252,
         "CHC",
         "AKL",
         "Airbus A320",
         "2024-01-18T11:45:00Z",
         "2024-01-18T13:05:00Z",
         167,
         539,
         159.99,
         "On Time",
         1.33
        ],
        [
         "FL027",
         "NZ",
         352,
         "WLG",
         "PMR",
         "Boeing 737",
         "2024-01-18T14:00:00Z",
         "2024-01-18T15:30:00Z",
         179,
         522,
         149.99,
         "On Time",
         1.5
        ],
        [
         "FL028",
         "VA",
         452,
         "DUD",
         "HLZ",
         "ATR 72",
         "2024-01-18T16:30:00Z",
         "2024-01-18T18:30:00Z",
         63,
         559,
         159.99,
         "On Time",
         2.0
        ],
        [
         "FL029",
         "NZ",
         552,
         "AKL",
         "CHC",
         "Airbus A321",
         "2024-01-18T18:45:00Z",
         "2024-01-18T20:05:00Z",
         162,
         539,
         149.99,
         "Delayed",
         1.33
        ],
        [
         "FL030",
         "JQ",
         652,
         "ROT",
         "WLG",
         "Airbus A320",
         "2024-01-18T20:00:00Z",
         "2024-01-18T21:30:00Z",
         172,
         230,
         89.99,
         "On Time",
         1.5
        ],
        [
         "FL031",
         "NZ",
         752,
         "WLG",
         "HLZ",
         "Boeing 737",
         "2024-01-19T08:15:00Z",
         "2024-01-19T10:45:00Z",
         153,
         428,
         129.99,
         "On Time",
         2.5
        ],
        [
         "FL032",
         "VA",
         852,
         "HLZ",
         "AKL",
         "ATR 72",
         "2024-01-19T10:30:00Z",
         "2024-01-19T11:45:00Z",
         69,
         151,
         79.99,
         "On Time",
         1.25
        ],
        [
         "FL033",
         "NZ",
         103,
         "AKL",
         "DUD",
         "Airbus A320",
         "2024-01-19T12:45:00Z",
         "2024-01-19T14:30:00Z",
         165,
         986,
         199.99,
         "Cancelled",
         1.75
        ],
        [
         "FL034",
         "JQ",
         203,
         "WLG",
         "DUD",
         "Airbus A320",
         "2024-01-19T15:00:00Z",
         "2024-01-19T16:45:00Z",
         168,
         447,
         139.99,
         "Delayed",
         1.75
        ],
        [
         "FL035",
         "NZ",
         303,
         "CHC",
         "PMR",
         "Boeing 737",
         "2024-01-19T17:15:00Z",
         "2024-01-19T19:30:00Z",
         176,
         747,
         189.99,
         "On Time",
         2.25
        ],
        [
         "FL036",
         "VA",
         403,
         "PMR",
         "WLG",
         "ATR 72",
         "2024-01-19T19:30:00Z",
         "2024-01-19T21:00:00Z",
         64,
         522,
         149.99,
         "On Time",
         1.5
        ],
        [
         "FL037",
         "NZ",
         503,
         "AKL",
         "HLZ",
         "Airbus A321",
         "2024-01-19T21:45:00Z",
         "2024-01-19T23:00:00Z",
         163,
         151,
         69.99,
         "On Time",
         1.25
        ],
        [
         "FL038",
         "JQ",
         603,
         "ROT",
         "DUD",
         "Airbus A320",
         "2024-01-20T06:00:00Z",
         "2024-01-20T08:15:00Z",
         171,
         795,
         199.99,
         "Delayed",
         2.25
        ],
        [
         "FL039",
         "NZ",
         703,
         "WLG",
         "ROT",
         "Boeing 737",
         "2024-01-20T08:30:00Z",
         "2024-01-20T10:00:00Z",
         178,
         230,
         89.99,
         "On Time",
         1.5
        ],
        [
         "FL040",
         "VA",
         803,
         "HLZ",
         "PMR",
         "ATR 72",
         "2024-01-20T10:45:00Z",
         "2024-01-20T12:30:00Z",
         66,
         673,
         169.99,
         "On Time",
         1.75
        ],
        [
         "FL041",
         "NZ",
         153,
         "AKL",
         "WLG",
         "Airbus A320",
         "2024-01-20T13:00:00Z",
         "2024-01-20T14:15:00Z",
         160,
         484,
         109.99,
         "Delayed",
         1.25
        ],
        [
         "FL042",
         "JQ",
         253,
         "CHC",
         "HLZ",
         "Airbus A320",
         "2024-01-20T15:15:00Z",
         "2024-01-20T17:30:00Z",
         169,
         577,
         159.99,
         "On Time",
         2.25
        ],
        [
         "FL043",
         "NZ",
         353,
         "WLG",
         "CHC",
         "Boeing 737",
         "2024-01-20T17:30:00Z",
         "2024-01-20T18:55:00Z",
         154,
         300,
         119.99,
         "On Time",
         1.42
        ],
        [
         "FL044",
         "VA",
         453,
         "DUD",
         "PMR",
         "ATR 72",
         "2024-01-20T19:45:00Z",
         "2024-01-20T22:00:00Z",
         62,
         880,
         219.99,
         "On Time",
         2.25
        ],
        [
         "FL045",
         "NZ",
         553,
         "AKL",
         "ROT",
         "Airbus A321",
         "2024-01-20T22:00:00Z",
         "2024-01-20T23:10:00Z",
         165,
         230,
         89.99,
         "Delayed",
         1.17
        ],
        [
         "FL046",
         "JQ",
         653,
         "HLZ",
         "DUD",
         "Airbus A320",
         "2024-01-21T07:15:00Z",
         "2024-01-21T09:15:00Z",
         170,
         559,
         169.99,
         "On Time",
         2.0
        ],
        [
         "FL047",
         "NZ",
         753,
         "WLG",
         "PMR",
         "Boeing 737",
         "2024-01-21T09:30:00Z",
         "2024-01-21T11:00:00Z",
         177,
         522,
         149.99,
         "On Time",
         1.5
        ],
        [
         "FL048",
         "VA",
         853,
         "PMR",
         "HLZ",
         "ATR 72",
         "2024-01-21T11:45:00Z",
         "2024-01-21T13:30:00Z",
         68,
         673,
         169.99,
         "On Time",
         1.75
        ],
        [
         "FL049",
         "NZ",
         104,
         "AKL",
         "CHC",
         "Airbus A320",
         "2024-01-21T14:00:00Z",
         "2024-01-21T15:20:00Z",
         161,
         539,
         149.99,
         "Cancelled",
         1.33
        ],
        [
         "FL050",
         "JQ",
         204,
         "WLG",
         "AKL",
         "Airbus A320",
         "2024-01-21T16:30:00Z",
         "2024-01-21T17:45:00Z",
         168,
         484,
         99.99,
         "On Time",
         1.25
        ]
       ],
       "datasetInfos": [],
       "dbfsResultPath": null,
       "isJsonSchema": true,
       "metadata": {},
       "overflow": false,
       "plotOptions": {
        "customPlotOptions": {},
        "displayType": "table",
        "pivotAggregation": null,
        "pivotColumns": null,
        "xColumns": null,
        "yColumns": null
       },
       "removedWidgets": [],
       "schema": [
        {
         "metadata": "{}",
         "name": "flight_id",
         "type": "\"string\""
        },
        {
         "metadata": "{}",
         "name": "airline_code",
         "type": "\"string\""
        },
        {
         "metadata": "{}",
         "name": "flight_number",
         "type": "\"integer\""
        },
        {
         "metadata": "{}",
         "name": "origin_airport",
         "type": "\"string\""
        },
        {
         "metadata": "{}",
         "name": "destination_airport",
         "type": "\"string\""
        },
        {
         "metadata": "{}",
         "name": "aircraft_type",
         "type": "\"string\""
        },
        {
         "metadata": "{}",
         "name": "departure_time",
         "type": "\"timestamp\""
        },
        {
         "metadata": "{}",
         "name": "arrival_time",
         "type": "\"timestamp\""
        },
        {
         "metadata": "{}",
         "name": "passenger_count",
         "type": "\"integer\""
        },
        {
         "metadata": "{}",
         "name": "flight_distance",
         "type": "\"integer\""
        },
        {
         "metadata": "{}",
         "name": "ticket_price",
         "type": "\"double\""
        },
        {
         "metadata": "{}",
         "name": "flight_status",
         "type": "\"string\""
        },
        {
         "metadata": "{}",
         "name": "duration_hours",
         "type": "\"double\""
        }
       ],
       "type": "table"
      }
     },
     "output_type": "display_data"
    }
   ],
   "source": [
    "df_with_duration.display()"
   ]
  },
  {
   "cell_type": "markdown",
   "metadata": {
    "application/vnd.databricks.v1+cell": {
     "cellMetadata": {},
     "inputWidgets": {},
     "nuid": "45c08078-90f4-4245-bd5e-a35b9c2dd674",
     "showTitle": false,
     "tableResultSettingsMap": {},
     "title": ""
    }
   },
   "source": [
    "**Adding Assertions on the dataframe**\n",
    "\n",
    "  1. Checking if the origin_airport and destination_airport is the same. This should not be same. My assumption is we are looking for only valid flights.\n",
    "  2. Checking if the departure_time is greater than arrival_time. arrival time should be always greater than departure_time\n",
    "  3. Checking if any of the column value is null. All the column looks like they are not nullable, so checking if there are any null values."
   ]
  },
  {
   "cell_type": "code",
   "execution_count": 0,
   "metadata": {
    "application/vnd.databricks.v1+cell": {
     "cellMetadata": {
      "byteLimit": 2048000,
      "rowLimit": 10000
     },
     "inputWidgets": {},
     "nuid": "77a1eebb-eafc-483a-968d-5ae850487289",
     "showTitle": false,
     "tableResultSettingsMap": {},
     "title": ""
    }
   },
   "outputs": [
    {
     "output_type": "stream",
     "name": "stdout",
     "output_type": "stream",
     "text": [
      "PASS: Column 'flight_id' has no nulls\nPASS: Column 'airline_code' has no nulls\nPASS: Column 'flight_number' has no nulls\nPASS: Column 'origin_airport' has no nulls\nPASS: Column 'destination_airport' has no nulls\nPASS: Column 'aircraft_type' has no nulls\nPASS: Column 'departure_time' has no nulls\nPASS: Column 'arrival_time' has no nulls\nPASS: Column 'passenger_count' has no nulls\nPASS: Column 'flight_distance' has no nulls\nPASS: Column 'ticket_price' has no nulls\nPASS: Column 'flight_status' has no nulls\nPASS: Column 'duration_hours' has no nulls\n"
     ]
    }
   ],
   "source": [
    "# Rows where source == destination\n",
    "same_location_count = df_with_duration.filter(col(\"origin_airport\") == col(\"destination_airport\")).count()\n",
    "\n",
    "# Assert none of them are the same\n",
    "assert same_location_count == 0, f\"Found {same_location_count} rows where source and destination are the same\"\n",
    "\n",
    "#Rows where arrival <= departure\n",
    "invalid_time_count = df_with_duration.filter(col(\"arrival_time\") <= col(\"departure_time\")).count()\n",
    "\n",
    "#Assert arrival time <= departure time\n",
    "assert invalid_time_count == 0, f\"FAIL: {invalid_time_count} rows with arrival <= departure\"\n",
    "\n",
    "#Assert check if any of the column has null values. All the columns should have no null values\n",
    "for column in df_with_duration.columns:\n",
    "    null_count = df_with_duration.filter(col(column).isNull()).count()\n",
    "    assert null_count == 0, f\"Column '{column}' has {null_count} null values\"\n",
    "    print(f\"PASS: Column '{column}' has no nulls\")\n"
   ]
  }
 ],
 "metadata": {
  "application/vnd.databricks.v1+notebook": {
   "computePreferences": null,
   "dashboards": [],
   "environmentMetadata": {
    "base_environment": "",
    "environment_version": "2"
   },
   "inputWidgetPreferences": null,
   "language": "python",
   "notebookMetadata": {
    "pythonIndentUnit": 4
   },
   "notebookName": "Flight_Data",
   "widgets": {}
  },
  "language_info": {
   "name": "python"
  }
 },
 "nbformat": 4,
 "nbformat_minor": 0
}